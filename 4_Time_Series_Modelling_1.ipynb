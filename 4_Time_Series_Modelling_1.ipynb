{
 "cells": [
  {
   "cell_type": "code",
   "execution_count": 51,
   "id": "7706f2e3",
   "metadata": {},
   "outputs": [],
   "source": [
    "import numpy as np\n",
    "import pandas as pd\n",
    "import seaborn as sns\n",
    "import pandas.testing as tm\n",
    "import matplotlib as plt\n",
    "from matplotlib import pyplot as plt\n"
   ]
  },
  {
   "cell_type": "markdown",
   "id": "9697932d",
   "metadata": {},
   "source": [
    "# Time series - pre processing phase \n",
    "### With use of dataset 1: aantallen_gemeente_cumulatief "
   ]
  },
  {
   "cell_type": "markdown",
   "id": "7d7a7c99",
   "metadata": {},
   "source": [
    "The first phase is the pre processing phase where the input data is extracted from the larger dataset. This is done by selecting columns. Since daily data comes from different sources and places, the data is aggregated to a total cumulative sum. "
   ]
  },
  {
   "cell_type": "code",
   "execution_count": 52,
   "id": "bdb4139e",
   "metadata": {},
   "outputs": [
    {
     "data": {
      "text/html": [
       "<div>\n",
       "<style scoped>\n",
       "    .dataframe tbody tr th:only-of-type {\n",
       "        vertical-align: middle;\n",
       "    }\n",
       "\n",
       "    .dataframe tbody tr th {\n",
       "        vertical-align: top;\n",
       "    }\n",
       "\n",
       "    .dataframe thead th {\n",
       "        text-align: right;\n",
       "    }\n",
       "</style>\n",
       "<table border=\"1\" class=\"dataframe\">\n",
       "  <thead>\n",
       "    <tr style=\"text-align: right;\">\n",
       "      <th></th>\n",
       "      <th>Date_of_report</th>\n",
       "      <th>Municipality_code</th>\n",
       "      <th>Municipality_name</th>\n",
       "      <th>Province</th>\n",
       "      <th>Total_reported</th>\n",
       "      <th>Hospital_admission</th>\n",
       "      <th>Deceased</th>\n",
       "    </tr>\n",
       "  </thead>\n",
       "  <tbody>\n",
       "    <tr>\n",
       "      <th>0</th>\n",
       "      <td>13/03/2020 10:00</td>\n",
       "      <td>GM0003</td>\n",
       "      <td>Appingedam</td>\n",
       "      <td>Groningen</td>\n",
       "      <td>0</td>\n",
       "      <td>0</td>\n",
       "      <td>0</td>\n",
       "    </tr>\n",
       "    <tr>\n",
       "      <th>1</th>\n",
       "      <td>13/03/2020 10:00</td>\n",
       "      <td>GM0010</td>\n",
       "      <td>Delfzijl</td>\n",
       "      <td>Groningen</td>\n",
       "      <td>0</td>\n",
       "      <td>0</td>\n",
       "      <td>0</td>\n",
       "    </tr>\n",
       "    <tr>\n",
       "      <th>2</th>\n",
       "      <td>13/03/2020 10:00</td>\n",
       "      <td>GM0014</td>\n",
       "      <td>Groningen</td>\n",
       "      <td>Groningen</td>\n",
       "      <td>3</td>\n",
       "      <td>0</td>\n",
       "      <td>0</td>\n",
       "    </tr>\n",
       "    <tr>\n",
       "      <th>3</th>\n",
       "      <td>13/03/2020 10:00</td>\n",
       "      <td>GM0024</td>\n",
       "      <td>Loppersum</td>\n",
       "      <td>Groningen</td>\n",
       "      <td>0</td>\n",
       "      <td>0</td>\n",
       "      <td>0</td>\n",
       "    </tr>\n",
       "    <tr>\n",
       "      <th>4</th>\n",
       "      <td>13/03/2020 10:00</td>\n",
       "      <td>GM0034</td>\n",
       "      <td>Almere</td>\n",
       "      <td>Flevoland</td>\n",
       "      <td>1</td>\n",
       "      <td>1</td>\n",
       "      <td>0</td>\n",
       "    </tr>\n",
       "    <tr>\n",
       "      <th>...</th>\n",
       "      <td>...</td>\n",
       "      <td>...</td>\n",
       "      <td>...</td>\n",
       "      <td>...</td>\n",
       "      <td>...</td>\n",
       "      <td>...</td>\n",
       "      <td>...</td>\n",
       "    </tr>\n",
       "    <tr>\n",
       "      <th>151955</th>\n",
       "      <td>01/05/2021 10:00</td>\n",
       "      <td>NaN</td>\n",
       "      <td>NaN</td>\n",
       "      <td>Noord-Holland</td>\n",
       "      <td>668</td>\n",
       "      <td>20</td>\n",
       "      <td>2</td>\n",
       "    </tr>\n",
       "    <tr>\n",
       "      <th>151956</th>\n",
       "      <td>01/05/2021 10:00</td>\n",
       "      <td>NaN</td>\n",
       "      <td>NaN</td>\n",
       "      <td>Zuid-Holland</td>\n",
       "      <td>2312</td>\n",
       "      <td>46</td>\n",
       "      <td>15</td>\n",
       "    </tr>\n",
       "    <tr>\n",
       "      <th>151957</th>\n",
       "      <td>01/05/2021 10:00</td>\n",
       "      <td>NaN</td>\n",
       "      <td>NaN</td>\n",
       "      <td>Zeeland</td>\n",
       "      <td>56</td>\n",
       "      <td>4</td>\n",
       "      <td>1</td>\n",
       "    </tr>\n",
       "    <tr>\n",
       "      <th>151958</th>\n",
       "      <td>01/05/2021 10:00</td>\n",
       "      <td>NaN</td>\n",
       "      <td>NaN</td>\n",
       "      <td>Noord-Brabant</td>\n",
       "      <td>1144</td>\n",
       "      <td>29</td>\n",
       "      <td>7</td>\n",
       "    </tr>\n",
       "    <tr>\n",
       "      <th>151959</th>\n",
       "      <td>01/05/2021 10:00</td>\n",
       "      <td>NaN</td>\n",
       "      <td>NaN</td>\n",
       "      <td>Limburg</td>\n",
       "      <td>347</td>\n",
       "      <td>8</td>\n",
       "      <td>3</td>\n",
       "    </tr>\n",
       "  </tbody>\n",
       "</table>\n",
       "<p>151960 rows × 7 columns</p>\n",
       "</div>"
      ],
      "text/plain": [
       "          Date_of_report Municipality_code Municipality_name       Province  \\\n",
       "0       13/03/2020 10:00            GM0003        Appingedam      Groningen   \n",
       "1       13/03/2020 10:00            GM0010          Delfzijl      Groningen   \n",
       "2       13/03/2020 10:00            GM0014         Groningen      Groningen   \n",
       "3       13/03/2020 10:00            GM0024         Loppersum      Groningen   \n",
       "4       13/03/2020 10:00            GM0034            Almere      Flevoland   \n",
       "...                  ...               ...               ...            ...   \n",
       "151955  01/05/2021 10:00               NaN               NaN  Noord-Holland   \n",
       "151956  01/05/2021 10:00               NaN               NaN   Zuid-Holland   \n",
       "151957  01/05/2021 10:00               NaN               NaN        Zeeland   \n",
       "151958  01/05/2021 10:00               NaN               NaN  Noord-Brabant   \n",
       "151959  01/05/2021 10:00               NaN               NaN        Limburg   \n",
       "\n",
       "        Total_reported  Hospital_admission  Deceased  \n",
       "0                    0                   0         0  \n",
       "1                    0                   0         0  \n",
       "2                    3                   0         0  \n",
       "3                    0                   0         0  \n",
       "4                    1                   1         0  \n",
       "...                ...                 ...       ...  \n",
       "151955             668                  20         2  \n",
       "151956            2312                  46        15  \n",
       "151957              56                   4         1  \n",
       "151958            1144                  29         7  \n",
       "151959             347                   8         3  \n",
       "\n",
       "[151960 rows x 7 columns]"
      ]
     },
     "metadata": {},
     "output_type": "display_data"
    }
   ],
   "source": [
    "dutch_data_01 = pd.read_csv('/Users/stevenkraamwinkel/Desktop/Datasets 1 mei/COVID-19_aantallen_gemeente_cumulatief_01_05.csv', parse_dates=True, delimiter=';')\n",
    "display(dutch_data_01)\n"
   ]
  },
  {
   "cell_type": "code",
   "execution_count": 53,
   "id": "5f9fe82e",
   "metadata": {},
   "outputs": [
    {
     "data": {
      "text/html": [
       "<div>\n",
       "<style scoped>\n",
       "    .dataframe tbody tr th:only-of-type {\n",
       "        vertical-align: middle;\n",
       "    }\n",
       "\n",
       "    .dataframe tbody tr th {\n",
       "        vertical-align: top;\n",
       "    }\n",
       "\n",
       "    .dataframe thead th {\n",
       "        text-align: right;\n",
       "    }\n",
       "</style>\n",
       "<table border=\"1\" class=\"dataframe\">\n",
       "  <thead>\n",
       "    <tr style=\"text-align: right;\">\n",
       "      <th></th>\n",
       "      <th>Total_reported</th>\n",
       "      <th>Hospital_admission</th>\n",
       "      <th>Deceased</th>\n",
       "    </tr>\n",
       "    <tr>\n",
       "      <th>Date_of_report</th>\n",
       "      <th></th>\n",
       "      <th></th>\n",
       "      <th></th>\n",
       "    </tr>\n",
       "  </thead>\n",
       "  <tbody>\n",
       "    <tr>\n",
       "      <th>2020-03-13 10:00:00</th>\n",
       "      <td>0</td>\n",
       "      <td>0</td>\n",
       "      <td>0</td>\n",
       "    </tr>\n",
       "    <tr>\n",
       "      <th>2020-03-13 10:00:00</th>\n",
       "      <td>0</td>\n",
       "      <td>0</td>\n",
       "      <td>0</td>\n",
       "    </tr>\n",
       "    <tr>\n",
       "      <th>2020-03-13 10:00:00</th>\n",
       "      <td>3</td>\n",
       "      <td>0</td>\n",
       "      <td>0</td>\n",
       "    </tr>\n",
       "    <tr>\n",
       "      <th>2020-03-13 10:00:00</th>\n",
       "      <td>0</td>\n",
       "      <td>0</td>\n",
       "      <td>0</td>\n",
       "    </tr>\n",
       "    <tr>\n",
       "      <th>2020-03-13 10:00:00</th>\n",
       "      <td>1</td>\n",
       "      <td>1</td>\n",
       "      <td>0</td>\n",
       "    </tr>\n",
       "    <tr>\n",
       "      <th>...</th>\n",
       "      <td>...</td>\n",
       "      <td>...</td>\n",
       "      <td>...</td>\n",
       "    </tr>\n",
       "    <tr>\n",
       "      <th>2021-05-01 10:00:00</th>\n",
       "      <td>668</td>\n",
       "      <td>20</td>\n",
       "      <td>2</td>\n",
       "    </tr>\n",
       "    <tr>\n",
       "      <th>2021-05-01 10:00:00</th>\n",
       "      <td>2312</td>\n",
       "      <td>46</td>\n",
       "      <td>15</td>\n",
       "    </tr>\n",
       "    <tr>\n",
       "      <th>2021-05-01 10:00:00</th>\n",
       "      <td>56</td>\n",
       "      <td>4</td>\n",
       "      <td>1</td>\n",
       "    </tr>\n",
       "    <tr>\n",
       "      <th>2021-05-01 10:00:00</th>\n",
       "      <td>1144</td>\n",
       "      <td>29</td>\n",
       "      <td>7</td>\n",
       "    </tr>\n",
       "    <tr>\n",
       "      <th>2021-05-01 10:00:00</th>\n",
       "      <td>347</td>\n",
       "      <td>8</td>\n",
       "      <td>3</td>\n",
       "    </tr>\n",
       "  </tbody>\n",
       "</table>\n",
       "<p>151960 rows × 3 columns</p>\n",
       "</div>"
      ],
      "text/plain": [
       "                     Total_reported  Hospital_admission  Deceased\n",
       "Date_of_report                                                   \n",
       "2020-03-13 10:00:00               0                   0         0\n",
       "2020-03-13 10:00:00               0                   0         0\n",
       "2020-03-13 10:00:00               3                   0         0\n",
       "2020-03-13 10:00:00               0                   0         0\n",
       "2020-03-13 10:00:00               1                   1         0\n",
       "...                             ...                 ...       ...\n",
       "2021-05-01 10:00:00             668                  20         2\n",
       "2021-05-01 10:00:00            2312                  46        15\n",
       "2021-05-01 10:00:00              56                   4         1\n",
       "2021-05-01 10:00:00            1144                  29         7\n",
       "2021-05-01 10:00:00             347                   8         3\n",
       "\n",
       "[151960 rows x 3 columns]"
      ]
     },
     "metadata": {},
     "output_type": "display_data"
    },
    {
     "data": {
      "text/plain": [
       "Total_reported        int64\n",
       "Hospital_admission    int64\n",
       "Deceased              int64\n",
       "dtype: object"
      ]
     },
     "execution_count": 53,
     "metadata": {},
     "output_type": "execute_result"
    }
   ],
   "source": [
    "#Selecting columns\n",
    "dutch_data_01 = dutch_data_01[['Date_of_report', 'Total_reported', 'Hospital_admission', 'Deceased']]\n",
    "dutch_data_01['Date_of_report']= pd.to_datetime(dutch_data_01['Date_of_report'], format='%d/%m/%Y %H:%M')\n",
    "dutch_data_01 = dutch_data_01.set_index('Date_of_report')\n",
    "display(dutch_data_01)\n",
    "dutch_data_01.dtypes"
   ]
  },
  {
   "cell_type": "code",
   "execution_count": 54,
   "id": "6b961bc5",
   "metadata": {},
   "outputs": [
    {
     "data": {
      "text/html": [
       "<div>\n",
       "<style scoped>\n",
       "    .dataframe tbody tr th:only-of-type {\n",
       "        vertical-align: middle;\n",
       "    }\n",
       "\n",
       "    .dataframe tbody tr th {\n",
       "        vertical-align: top;\n",
       "    }\n",
       "\n",
       "    .dataframe thead th {\n",
       "        text-align: right;\n",
       "    }\n",
       "</style>\n",
       "<table border=\"1\" class=\"dataframe\">\n",
       "  <thead>\n",
       "    <tr style=\"text-align: right;\">\n",
       "      <th></th>\n",
       "      <th>Total_reported</th>\n",
       "      <th>Hospital_admission</th>\n",
       "      <th>Deceased</th>\n",
       "    </tr>\n",
       "    <tr>\n",
       "      <th>Date_of_report</th>\n",
       "      <th></th>\n",
       "      <th></th>\n",
       "      <th></th>\n",
       "    </tr>\n",
       "  </thead>\n",
       "  <tbody>\n",
       "    <tr>\n",
       "      <th>2020-03-13</th>\n",
       "      <td>804</td>\n",
       "      <td>115</td>\n",
       "      <td>9</td>\n",
       "    </tr>\n",
       "    <tr>\n",
       "      <th>2020-03-14</th>\n",
       "      <td>959</td>\n",
       "      <td>136</td>\n",
       "      <td>12</td>\n",
       "    </tr>\n",
       "    <tr>\n",
       "      <th>2020-03-15</th>\n",
       "      <td>1135</td>\n",
       "      <td>162</td>\n",
       "      <td>19</td>\n",
       "    </tr>\n",
       "    <tr>\n",
       "      <th>2020-03-16</th>\n",
       "      <td>1413</td>\n",
       "      <td>205</td>\n",
       "      <td>23</td>\n",
       "    </tr>\n",
       "    <tr>\n",
       "      <th>2020-03-17</th>\n",
       "      <td>1705</td>\n",
       "      <td>314</td>\n",
       "      <td>40</td>\n",
       "    </tr>\n",
       "    <tr>\n",
       "      <th>...</th>\n",
       "      <td>...</td>\n",
       "      <td>...</td>\n",
       "      <td>...</td>\n",
       "    </tr>\n",
       "    <tr>\n",
       "      <th>2021-04-27</th>\n",
       "      <td>1472674</td>\n",
       "      <td>28445</td>\n",
       "      <td>17093</td>\n",
       "    </tr>\n",
       "    <tr>\n",
       "      <th>2021-04-28</th>\n",
       "      <td>1481323</td>\n",
       "      <td>28517</td>\n",
       "      <td>17104</td>\n",
       "    </tr>\n",
       "    <tr>\n",
       "      <th>2021-04-29</th>\n",
       "      <td>1488594</td>\n",
       "      <td>28580</td>\n",
       "      <td>17124</td>\n",
       "    </tr>\n",
       "    <tr>\n",
       "      <th>2021-04-30</th>\n",
       "      <td>1496352</td>\n",
       "      <td>28658</td>\n",
       "      <td>17148</td>\n",
       "    </tr>\n",
       "    <tr>\n",
       "      <th>2021-05-01</th>\n",
       "      <td>1502107</td>\n",
       "      <td>28760</td>\n",
       "      <td>17169</td>\n",
       "    </tr>\n",
       "  </tbody>\n",
       "</table>\n",
       "<p>415 rows × 3 columns</p>\n",
       "</div>"
      ],
      "text/plain": [
       "                Total_reported  Hospital_admission  Deceased\n",
       "Date_of_report                                              \n",
       "2020-03-13                 804                 115         9\n",
       "2020-03-14                 959                 136        12\n",
       "2020-03-15                1135                 162        19\n",
       "2020-03-16                1413                 205        23\n",
       "2020-03-17                1705                 314        40\n",
       "...                        ...                 ...       ...\n",
       "2021-04-27             1472674               28445     17093\n",
       "2021-04-28             1481323               28517     17104\n",
       "2021-04-29             1488594               28580     17124\n",
       "2021-04-30             1496352               28658     17148\n",
       "2021-05-01             1502107               28760     17169\n",
       "\n",
       "[415 rows x 3 columns]"
      ]
     },
     "metadata": {},
     "output_type": "display_data"
    }
   ],
   "source": [
    "dutch_data_01.loc[dutch_data_01.index!='Date_of_report'].sum()\n",
    "dutch_data_01 = dutch_data_01.resample('D').sum()\n",
    "display(dutch_data_01)\n"
   ]
  },
  {
   "cell_type": "markdown",
   "id": "d182c251",
   "metadata": {},
   "source": [
    "In the next part, three different time series are transformed from the cumulative sum to their original values. The daily infections, hospitalization and victims of COVID-19 will be visualised in the cells below. Also a weekly moving average, what is different for each day since for each day seven different days are averaged, is computed and visualised.  "
   ]
  },
  {
   "cell_type": "markdown",
   "id": "6bd49ccd",
   "metadata": {},
   "source": [
    "### Extraction and moving averages of time series 1"
   ]
  },
  {
   "cell_type": "code",
   "execution_count": 55,
   "id": "dfdfd53d",
   "metadata": {},
   "outputs": [
    {
     "name": "stdout",
     "output_type": "stream",
     "text": [
      "[804, 155, 176, 278, 292, 346, 409, 1191, -20, 573, 545, 811, 852, 1019, 1172, 1159, 1104, 884, 845, 1019, 1083, 1026, 904, 1224, 952, 777, 969, 1213, 1335, 1316, 1174, 964, 868, 734, 1061, 1235, 1140, 1066, 750, 729, 708, 887, 806, 655, 655, 400, 171, 386, 514, 475, 445, 335, 199, 317, 232, 455, 319, 289, 245, 161, 196, 227, 270, 200, 189, 125, 146, 108, 198, 253, 188, 176, 172, 209, 133, 190, 182, 176, 131, 185, 103, 102, 86, 209, 210, 183, 239, 165, 164, 184, 164, 210, 179, 143, 165, 139, 117, 115, 107, 76, 91, 65, 64, 82, 110, 91, 69, 73, 76, 50, 62, 77, 75, 61, 73, 36, 37, 52, 52, 42, 81, 101, 71, 53, 106, 99, 103, 127, 144, 185, 163, 168, 163, 191, 137, 214, 205, 223, 247, 342, 338, 431, 366, 372, 485, 426, 601, 519, 486, 577, 630, 779, 654, 577, 636, 655, 507, 482, 489, 552, 529, 535, 508, 457, 574, 415, 571, 510, 507, 501, 508, 527, 462, 734, 601, 744, 654, 925, 797, 964, 1140, 823, 1270, 1231, 1087, 1300, 1379, 1542, 1753, 1974, 1887, 1844, 2217, 2245, 2357, 2544, 2777, 2713, 2995, 2914, 3011, 3294, 3252, 3825, 3967, 4003, 4579, 4528, 4989, 5822, 5971, 6499, 6373, 6845, 7378, 7287, 7791, 7984, 8114, 8182, 7992, 8165, 8743, 9271, 9996, 8651, 10202, 10343, 10292, 8102, 10264, 11119, 9804, 8683, 8286, 7743, 7633, 6965, 7242, 6671, 5664, 4680, 4667, 5407, 5634, 6091, 5914, 5413, 4830, 4302, 4609, 5645, 5933, 6070, 5388, 5170, 3926, 4909, 4470, 5743, 4459, 5585, 4568, 4045, 4921, 5606, 5874, 6521, 6779, 7067, 6146, 6528, 8720, 8838, 9080, 9884, 8457, 6633, 11169, 12779, 11931, 12217, 13032, 11168, 9810, 10388, 11499, 11487, 9848, 9080, 7415, 7502, 9398, 9681, 8183, 8601, 7398, 6563, 6338, 7099, 9627, 8124, 7321, 6612, 5416, 4872, 6086, 6466, 6009, 5260, 5598, 4754, 4272, 5530, 5774, 5744, 5414, 4891, 4017, 3917, 4726, 4659, 4350, 4173, 3700, 3188, 3561, 4013, 4193, 4321, 4075, 3934, 2221, 1744, 3183, 4394, 4341, 4194, 3447, 2810, 2701, 3361, 4518, 4726, 4565, 4674, 4162, 3797, 4362, 5011, 5113, 4937, 4669, 3762, 3981, 4997, 4114, 4669, 5336, 4526, 3834, 4293, 5272, 5322, 6026, 6396, 5974, 5469, 4902, 5924, 6125, 7375, 7593, 6965, 6261, 5560, 7579, 7702, 7562, 8798, 7430, 6718, 5828, 7633, 7827, 7253, 7628, 6822, 5320, 5541, 6346, 7783, 7635, 7676, 8218, 6675, 6685, 5386, 8734, 8898, 8285, 8505, 7117, 6822, 8471, 9611, 9210, 8060, 8013, 6200, 5337, 8649, 7271, 7758, 5755]\n"
     ]
    }
   ],
   "source": [
    "#Cumulative function found from source: \n",
    "#https://codereview.stackexchange.com/questions/117183/extracting-original-values-from-cumulative-sum-values\n",
    "\n",
    "cumulative = dutch_data_01['Total_reported']\n",
    "\n",
    "def B(cumulative):\n",
    "    output = [0] * len(cumulative)\n",
    "    for i,e in reversed(list(enumerate(cumulative))):\n",
    "        output[i]=cumulative[i] - cumulative[i-1]\n",
    "    output[0]=cumulative[0]\n",
    "    return output\n",
    "\n",
    "#Shows the daily values for the daily cumulative values\n",
    "print(B(cumulative))\n"
   ]
  },
  {
   "cell_type": "code",
   "execution_count": 56,
   "id": "8da03b77",
   "metadata": {},
   "outputs": [
    {
     "data": {
      "text/plain": [
       "2020-04-01    1019\n",
       "2020-04-02    1083\n",
       "2020-04-03    1026\n",
       "2020-04-04     904\n",
       "2020-04-05    1224\n",
       "              ... \n",
       "2021-04-26    6200\n",
       "2021-04-27    5337\n",
       "2021-04-28    8649\n",
       "2021-04-29    7271\n",
       "2021-04-30    7758\n",
       "Freq: D, Length: 395, dtype: int64"
      ]
     },
     "metadata": {},
     "output_type": "display_data"
    }
   ],
   "source": [
    "#time series from total reported COVID-19 infections\n",
    "time_series_01 = pd.Series(B(cumulative), \n",
    "                          index=pd.date_range('13/03/2020', periods =415))\n",
    "\n",
    "#Selecting april 2020 - april 2021\n",
    "time_series_01 = time_series_01['2020-04-01':'2021-04-30']\n",
    "display(time_series_01)\n"
   ]
  },
  {
   "cell_type": "code",
   "execution_count": 57,
   "id": "3019cb9a",
   "metadata": {},
   "outputs": [
    {
     "data": {
      "text/plain": [
       "2020-04-01    1028.857143\n",
       "2020-04-02    1038.000000\n",
       "2020-04-03    1017.142857\n",
       "2020-04-04     980.714286\n",
       "2020-04-05     997.857143\n",
       "                 ...     \n",
       "2021-04-26    8055.285714\n",
       "2021-04-27    7843.142857\n",
       "2021-04-28    7868.571429\n",
       "2021-04-29    7534.285714\n",
       "2021-04-30    7326.857143\n",
       "Freq: D, Name: Number_of_cases, Length: 395, dtype: float64"
      ]
     },
     "execution_count": 57,
     "metadata": {},
     "output_type": "execute_result"
    }
   ],
   "source": [
    "#Moving average code:\n",
    "data_01 = pd.DataFrame(B(cumulative), index = pd.date_range('03/13/2020', '05/01/2021'), columns = {'Number_of_cases'})\n",
    "data_01_weekly_average = data_01.resample('W').mean()\n",
    "\n",
    "moving_average_01 = data_01['Number_of_cases'].rolling(7).mean()\n",
    "moving_average_01['2020-04-01':'2021-04-30']\n",
    "\n"
   ]
  },
  {
   "cell_type": "code",
   "execution_count": 58,
   "id": "d3fa895f",
   "metadata": {},
   "outputs": [
    {
     "data": {
      "text/plain": [
       "Text(0.5, 1.0, 'COVID-19 weekly moving average')"
      ]
     },
     "execution_count": 58,
     "metadata": {},
     "output_type": "execute_result"
    },
    {
     "data": {
      "image/png": "[encoded data removed]",
      "text/plain": [
       "<Figure size 396x360 with 2 Axes>"
      ]
     },
     "metadata": {
      "needs_background": "light"
     },
     "output_type": "display_data"
    }
   ],
   "source": [
    "fig, axarr = plt.subplots(2, sharex=True)\n",
    "fig.set_size_inches(5.5, 5,5)\n",
    "\n",
    "data_01['Number_of_cases'].plot(ax=axarr[0], color='b')\n",
    "axarr[0].set_title('Number of COVID-19 cases')\n",
    "\n",
    "moving_average_01.plot(ax=axarr[1], color='r')\n",
    "axarr[1].set_title('COVID-19 weekly moving average')"
   ]
  },
  {
   "cell_type": "markdown",
   "id": "572fc730",
   "metadata": {},
   "source": [
    "### Extraction and moving averages of time series 2"
   ]
  },
  {
   "cell_type": "code",
   "execution_count": 59,
   "id": "ad8702fe",
   "metadata": {},
   "outputs": [
    {
     "name": "stdout",
     "output_type": "stream",
     "text": [
      "[115, 21, 26, 43, 109, 94, 81, 159, 188, 152, 242, 265, 341, 315, 349, 454, 529, 507, 722, 447, 625, 501, 336, 253, 260, 292, 308, 237, 225, 190, 196, 147, 210, 188, 182, 156, 129, 110, 75, 118, 124, 137, 123, 100, 75, 65, 88, 76, 84, 85, 93, 41, 36, 79, 20, 33, 71, 58, 22, 36, 35, 52, 27, 35, 45, 15, 27, 34, 14, 13, 9, 10, 13, 8, 10, 7, 16, 9, 5, 8, 9, 6, 9, 12, 11, 3, 4, 5, 6, 5, 3, 5, 9, 6, 3, 3, 2, -1, 11, 0, 3, 2, 2, 6, 4, 5, 0, 3, 3, 3, 1, 0, 4, 1, 1, 0, 2, 3, -2, 1, 3, 2, 1, -2, 5, 1, -4, 1, 3, 2, 2, 0, 3, -1, 2, 2, 5, 6, 3, 5, 7, 3, 6, 6, 10, 5, 1, 4, 2, 7, 6, 10, 9, 6, 11, 7, 6, 5, 4, 18, 10, 18, 11, 8, 4, 15, 19, 7, 9, 2, 3, 11, 5, 6, 5, 7, 5, 5, 9, 6, 8, 17, 10, 6, 17, 8, 24, 15, 14, 12, 33, 20, 26, 32, 32, 25, 36, 29, 37, 38, 46, 48, 47, 22, 30, 24, 59, 80, 63, 50, 66, 49, 53, 58, 111, 74, 74, 85, 80, 69, 84, 93, 101, 110, 112, 92, 109, 77, 109, 91, 80, 106, 117, 109, 89, 103, 100, 98, 89, 121, 94, 54, 74, 72, 92, 87, 92, 96, 86, 79, 104, 93, 64, 82, 67, 50, 81, 74, 64, 77, 69, 73, 52, 59, 59, 73, 53, 60, 52, 73, 71, 76, 71, 54, 77, 81, 75, 66, 66, 95, 85, 105, 99, 75, 83, 94, 92, 87, 66, 78, 90, 112, 95, 137, 77, 57, 107, 72, 92, 103, 87, 84, 76, 78, 59, 97, 69, 76, 76, 49, 69, 86, 99, 73, 85, 70, 76, 60, 102, 71, 67, 63, 62, 79, 57, 37, 67, 66, 69, 92, 72, 58, 39, 56, 66, 72, 83, 61, 61, 45, 58, 77, 63, 72, 92, 42, 65, 59, 48, 53, 53, 84, 63, 66, 53, 49, 60, 77, 45, 78, 67, 90, 66, 80, 79, 58, 58, 48, 58, 70, 72, 74, 63, 68, 61, 79, 62, 92, 79, 66, 73, 55, 66, 95, 66, 91, 66, 59, 56, 104, 140, 70, 105, 56, 91, 68, 78, 76, 90, 47, 84, 67, 95, 58, 78, 83, 98, 57, 81, 68, 78, 72, 63, 78, 102]\n"
     ]
    }
   ],
   "source": [
    "cumulative = dutch_data_01['Hospital_admission']\n",
    "\n",
    "def B(cumulative):\n",
    "    output = [0] * len(cumulative)\n",
    "    for i,e in reversed(list(enumerate(cumulative))):\n",
    "        output[i]=cumulative[i] - cumulative[i-1]\n",
    "    output[0]=cumulative[0]\n",
    "    return output\n",
    "\n",
    "#Shows the daily values for the daily cumulative values\n",
    "print(B(cumulative))"
   ]
  },
  {
   "cell_type": "code",
   "execution_count": 60,
   "id": "f3a5df56",
   "metadata": {},
   "outputs": [
    {
     "data": {
      "text/plain": [
       "2020-03-13    115\n",
       "2020-03-14     21\n",
       "2020-03-15     26\n",
       "2020-03-16     43\n",
       "2020-03-17    109\n",
       "             ... \n",
       "2021-04-27     78\n",
       "2021-04-28     72\n",
       "2021-04-29     63\n",
       "2021-04-30     78\n",
       "2021-05-01    102\n",
       "Freq: D, Length: 415, dtype: int64"
      ]
     },
     "execution_count": 60,
     "metadata": {},
     "output_type": "execute_result"
    }
   ],
   "source": [
    "time_series_02 = pd.Series(B(cumulative), \n",
    "                          index=pd.date_range('13/03/2020', periods =415))\n",
    "time_series_02"
   ]
  },
  {
   "cell_type": "code",
   "execution_count": 61,
   "id": "a1ff2b45",
   "metadata": {},
   "outputs": [
    {
     "data": {
      "text/plain": [
       "2020-04-01    447\n",
       "2020-04-02    625\n",
       "2020-04-03    501\n",
       "2020-04-04    336\n",
       "2020-04-05    253\n",
       "             ... \n",
       "2021-04-26     68\n",
       "2021-04-27     78\n",
       "2021-04-28     72\n",
       "2021-04-29     63\n",
       "2021-04-30     78\n",
       "Freq: D, Length: 395, dtype: int64"
      ]
     },
     "metadata": {},
     "output_type": "display_data"
    }
   ],
   "source": [
    "#Selecting april 2020 - april 2021\n",
    "time_series_02 = time_series_02['2020-04-01':'2021-04-30']\n",
    "display(time_series_02)"
   ]
  },
  {
   "cell_type": "code",
   "execution_count": 62,
   "id": "c58ccea8",
   "metadata": {},
   "outputs": [
    {
     "data": {
      "text/plain": [
       "2020-04-01    474.714286\n",
       "2020-04-02    519.000000\n",
       "2020-04-03    540.714286\n",
       "2020-04-04    523.857143\n",
       "2020-04-05    484.428571\n",
       "                 ...    \n",
       "2021-04-26     74.714286\n",
       "2021-04-27     77.571429\n",
       "2021-04-28     76.714286\n",
       "2021-04-29     73.857143\n",
       "2021-04-30     71.000000\n",
       "Freq: D, Name: Hospital_admission, Length: 395, dtype: float64"
      ]
     },
     "execution_count": 62,
     "metadata": {},
     "output_type": "execute_result"
    }
   ],
   "source": [
    "data_02 = pd.DataFrame(B(cumulative), index = pd.date_range('03/13/2020', '05/01/2021'), columns = {'Hospital_admission'})\n",
    "data_02_weekly_average = data_02.resample('W').mean()\n",
    "\n",
    "moving_average_02 = data_02['Hospital_admission'].rolling(7).mean()\n",
    "moving_average_02['2020-04-01':'2021-04-30']\n"
   ]
  },
  {
   "cell_type": "code",
   "execution_count": 63,
   "id": "5ae35db7",
   "metadata": {},
   "outputs": [
    {
     "data": {
      "text/plain": [
       "Text(0.5, 1.0, 'COVID-19 hospital admissions moving average')"
      ]
     },
     "execution_count": 63,
     "metadata": {},
     "output_type": "execute_result"
    },
    {
     "data": {
      "image/png": "[encoded data removed]",
      "text/plain": [
       "<Figure size 396x360 with 2 Axes>"
      ]
     },
     "metadata": {
      "needs_background": "light"
     },
     "output_type": "display_data"
    }
   ],
   "source": [
    "fig, axarr = plt.subplots(2, sharex=True)\n",
    "fig.set_size_inches(5.5, 5,5)\n",
    "\n",
    "data_02['Hospital_admission'].plot(ax=axarr[0], color='b')\n",
    "axarr[0].set_title('COVID-19 hospital admissions per day')\n",
    "\n",
    "moving_average_02.plot(ax=axarr[1], color='r')\n",
    "axarr[1].set_title('COVID-19 hospital admissions moving average')"
   ]
  },
  {
   "cell_type": "markdown",
   "id": "06afb500",
   "metadata": {},
   "source": [
    "### Extraction and moving averages time series 3"
   ]
  },
  {
   "cell_type": "code",
   "execution_count": 64,
   "id": "f1ab4822",
   "metadata": {},
   "outputs": [
    {
     "name": "stdout",
     "output_type": "stream",
     "text": [
      "[9, 3, 7, 4, 17, 16, 21, 28, 31, 44, 33, 63, 80, 78, 112, 93, 132, 93, 175, 134, 166, 148, 164, 117, 99, 234, 147, 148, 115, 132, 94, 86, 122, 189, 181, 144, 142, 83, 67, 165, 138, 123, 112, 120, 66, 43, 48, 145, 84, 98, 94, 69, 26, 86, 36, 84, 71, 63, 18, 16, 54, 52, 28, 53, 27, 10, 14, 21, 33, 27, 13, 23, 11, 8, 26, 15, 32, 28, 20, 5, 6, 5, 10, 13, 15, 6, 2, 3, 15, 11, 2, 9, 4, 2, 6, 5, 4, 4, 3, 8, 1, 0, 5, 2, 3, 3, 2, 0, 2, 6, 2, 3, 2, 6, 1, 1, 4, 3, 2, -1, 1, 0, 0, -2, 1, 1, 1, -2, 0, 0, 0, 3, 0, 0, 1, 0, 1, 4, 2, 0, 0, 1, 1, 0, 1, 3, 0, 1, 3, 0, 0, 2, 2, 4, 2, 2, 3, 0, 3, 6, 10, 4, 5, 0, 2, 5, 8, 3, 2, 4, 0, 0, 6, 5, 0, 2, 4, 2, 0, 1, 2, 3, 3, 1, 1, 2, 2, 2, 6, 7, 2, 4, 2, 10, 5, 16, 16, 38, 8, 6, 13, 13, 13, 9, 21, 5, 7, 21, 36, 13, 13, 23, 17, 12, 35, 32, 29, 16, 29, 14, 17, 46, 59, 46, 45, 55, 27, 26, 70, 60, 56, 87, 50, 39, 29, 113, 106, 87, 118, 73, 44, 39, 98, 74, 89, 54, 85, 43, 44, 86, 82, 73, 51, 48, 21, 54, 90, 74, 75, 83, 59, 23, 27, 62, 66, 61, 58, 39, 25, 17, 71, 66, 61, 64, 53, 29, 34, 86, 78, 75, 84, 54, 32, 28, 114, 104, 89, 98, 46, 28, 44, 170, 112, 108, 97, 36, 47, 63, 151, 173, 85, 87, 136, 54, 50, 152, 122, 89, 94, 97, 41, 50, 106, 86, 89, 85, 88, 30, 39, 86, 68, 83, 56, 87, 39, 27, 83, 61, 65, 60, 61, 48, 25, 83, 79, 72, 65, 66, 23, 27, 86, 88, 72, 49, 62, 17, 32, 94, 63, 32, 65, 40, 20, 21, 65, 48, 33, 32, 41, 30, 28, 56, 31, 50, 26, 22, 23, 18, 32, 46, 33, 46, 16, 15, 15, 49, 32, 26, 24, 29, 15, 10, 34, 29, 21, 16, 31, 16, 7, 20, 23, 19, 40, 23, 17, 20, 31, 26, 13, 12, 31, 12, 22, 27, 18, 19, 14, 22, 11, 13, 31, 11, 20, 24, 21]\n"
     ]
    }
   ],
   "source": [
    "cumulative = dutch_data_01['Deceased']\n",
    "\n",
    "def B(cumulative):\n",
    "    output = [0] * len(cumulative)\n",
    "    for i,e in reversed(list(enumerate(cumulative))):\n",
    "        output[i]=cumulative[i] - cumulative[i-1]\n",
    "    output[0]=cumulative[0]\n",
    "    return output\n",
    "\n",
    "#Shows the daily values for the daily cumulative values\n",
    "print(B(cumulative))"
   ]
  },
  {
   "cell_type": "code",
   "execution_count": 65,
   "id": "0193957e",
   "metadata": {},
   "outputs": [
    {
     "data": {
      "text/plain": [
       "2020-03-13     9\n",
       "2020-03-14     3\n",
       "2020-03-15     7\n",
       "2020-03-16     4\n",
       "2020-03-17    17\n",
       "              ..\n",
       "2021-04-27    31\n",
       "2021-04-28    11\n",
       "2021-04-29    20\n",
       "2021-04-30    24\n",
       "2021-05-01    21\n",
       "Freq: D, Length: 415, dtype: int64"
      ]
     },
     "execution_count": 65,
     "metadata": {},
     "output_type": "execute_result"
    }
   ],
   "source": [
    "time_series_03 = pd.Series(B(cumulative), \n",
    "                          index=pd.date_range('13/03/2020', periods =415))\n",
    "time_series_03"
   ]
  },
  {
   "cell_type": "code",
   "execution_count": 66,
   "id": "3c746d29",
   "metadata": {},
   "outputs": [
    {
     "data": {
      "text/plain": [
       "2020-04-01    134\n",
       "2020-04-02    166\n",
       "2020-04-03    148\n",
       "2020-04-04    164\n",
       "2020-04-05    117\n",
       "             ... \n",
       "2021-04-26     13\n",
       "2021-04-27     31\n",
       "2021-04-28     11\n",
       "2021-04-29     20\n",
       "2021-04-30     24\n",
       "Freq: D, Length: 395, dtype: int64"
      ]
     },
     "metadata": {},
     "output_type": "display_data"
    }
   ],
   "source": [
    "#Selecting april 2020 - feb 2021\n",
    "time_series_03 = time_series_03['2020-04-01':'2021-04-30']\n",
    "display(time_series_03)\n"
   ]
  },
  {
   "cell_type": "code",
   "execution_count": 67,
   "id": "21e1e21d",
   "metadata": {},
   "outputs": [
    {
     "data": {
      "text/plain": [
       "2020-04-01    116.714286\n",
       "2020-04-02    129.285714\n",
       "2020-04-03    134.428571\n",
       "2020-04-04    144.571429\n",
       "2020-04-05    142.428571\n",
       "                 ...    \n",
       "2021-04-26     17.714286\n",
       "2021-04-27     18.285714\n",
       "2021-04-28     17.285714\n",
       "2021-04-29     17.428571\n",
       "2021-04-30     18.857143\n",
       "Freq: D, Name: Deceased, Length: 395, dtype: float64"
      ]
     },
     "execution_count": 67,
     "metadata": {},
     "output_type": "execute_result"
    }
   ],
   "source": [
    "data_03 = pd.DataFrame(B(cumulative), index = pd.date_range('03/13/2020', '05/01/2021'), columns = {'Deceased'})\n",
    "data_03_weekly_average = data_03.resample('W').mean()\n",
    "\n",
    "moving_average_03 = data_03['Deceased'].rolling(7).mean()\n",
    "moving_average_03['2020-04-01':'2021-04-30']\n"
   ]
  },
  {
   "cell_type": "code",
   "execution_count": 68,
   "id": "94205384",
   "metadata": {},
   "outputs": [
    {
     "data": {
      "text/plain": [
       "Text(0.5, 1.0, 'COVID-19 deaths moving average')"
      ]
     },
     "execution_count": 68,
     "metadata": {},
     "output_type": "execute_result"
    },
    {
     "data": {
      "image/png": "[encoded data removed]",
      "text/plain": [
       "<Figure size 396x360 with 2 Axes>"
      ]
     },
     "metadata": {
      "needs_background": "light"
     },
     "output_type": "display_data"
    }
   ],
   "source": [
    "fig, axarr = plt.subplots(2, sharex=True)\n",
    "fig.set_size_inches(5.5, 5,5)\n",
    "\n",
    "data_03['Deceased'].plot(ax=axarr[0], color='b')\n",
    "axarr[0].set_title('COVID-19 deaths per day')\n",
    "\n",
    "moving_average_03.plot(ax=axarr[1], color='r')\n",
    "axarr[1].set_title('COVID-19 deaths moving average')"
   ]
  },
  {
   "cell_type": "markdown",
   "id": "27772d44",
   "metadata": {},
   "source": [
    "# Modelling phase"
   ]
  },
  {
   "cell_type": "markdown",
   "id": "e3cf7431",
   "metadata": {},
   "source": [
    "After the data have been sufficiently preprocessed and visualised, the data and its underlying pattern can be understood. From the visualization it is clear that the three variables show somewhat identical patterns. There is not a very clear trend in the data, and there is no seasonality, which means that no patterns repeatedly occur every month or every three months. There are a few upward trends followed quickly by a trend downward, but these upwards trend are relatively unpredictable. \n",
    "\n",
    "For the final forecasting, the variable that contains the number of infected per day will be used as input data. The output will be the forecasted number of infected people over a three month time interval. "
   ]
  },
  {
   "cell_type": "markdown",
   "id": "012a9338",
   "metadata": {},
   "source": [
    "# Simple Average (SA) model - baseline model"
   ]
  },
  {
   "cell_type": "markdown",
   "id": "23ca68d7",
   "metadata": {},
   "source": [
    "The simple average model, serves in this research as the baseline model. The model makes a simple computation, where every future value is the average value from the training data. "
   ]
  },
  {
   "cell_type": "code",
   "execution_count": 69,
   "id": "00317da6",
   "metadata": {},
   "outputs": [
    {
     "data": {
      "text/html": [
       "<div>\n",
       "<style scoped>\n",
       "    .dataframe tbody tr th:only-of-type {\n",
       "        vertical-align: middle;\n",
       "    }\n",
       "\n",
       "    .dataframe tbody tr th {\n",
       "        vertical-align: top;\n",
       "    }\n",
       "\n",
       "    .dataframe thead th {\n",
       "        text-align: right;\n",
       "    }\n",
       "</style>\n",
       "<table border=\"1\" class=\"dataframe\">\n",
       "  <thead>\n",
       "    <tr style=\"text-align: right;\">\n",
       "      <th></th>\n",
       "      <th>Number_of_cases</th>\n",
       "    </tr>\n",
       "  </thead>\n",
       "  <tbody>\n",
       "    <tr>\n",
       "      <th>2020-04-01</th>\n",
       "      <td>1019</td>\n",
       "    </tr>\n",
       "    <tr>\n",
       "      <th>2020-04-02</th>\n",
       "      <td>1083</td>\n",
       "    </tr>\n",
       "    <tr>\n",
       "      <th>2020-04-03</th>\n",
       "      <td>1026</td>\n",
       "    </tr>\n",
       "    <tr>\n",
       "      <th>2020-04-04</th>\n",
       "      <td>904</td>\n",
       "    </tr>\n",
       "    <tr>\n",
       "      <th>2020-04-05</th>\n",
       "      <td>1224</td>\n",
       "    </tr>\n",
       "    <tr>\n",
       "      <th>...</th>\n",
       "      <td>...</td>\n",
       "    </tr>\n",
       "    <tr>\n",
       "      <th>2021-04-26</th>\n",
       "      <td>6200</td>\n",
       "    </tr>\n",
       "    <tr>\n",
       "      <th>2021-04-27</th>\n",
       "      <td>5337</td>\n",
       "    </tr>\n",
       "    <tr>\n",
       "      <th>2021-04-28</th>\n",
       "      <td>8649</td>\n",
       "    </tr>\n",
       "    <tr>\n",
       "      <th>2021-04-29</th>\n",
       "      <td>7271</td>\n",
       "    </tr>\n",
       "    <tr>\n",
       "      <th>2021-04-30</th>\n",
       "      <td>7758</td>\n",
       "    </tr>\n",
       "  </tbody>\n",
       "</table>\n",
       "<p>395 rows × 1 columns</p>\n",
       "</div>"
      ],
      "text/plain": [
       "            Number_of_cases\n",
       "2020-04-01             1019\n",
       "2020-04-02             1083\n",
       "2020-04-03             1026\n",
       "2020-04-04              904\n",
       "2020-04-05             1224\n",
       "...                     ...\n",
       "2021-04-26             6200\n",
       "2021-04-27             5337\n",
       "2021-04-28             8649\n",
       "2021-04-29             7271\n",
       "2021-04-30             7758\n",
       "\n",
       "[395 rows x 1 columns]"
      ]
     },
     "metadata": {},
     "output_type": "display_data"
    }
   ],
   "source": [
    "SA_data = time_series_01.to_frame('Number_of_cases')\n",
    "display(SA_data)\n"
   ]
  },
  {
   "cell_type": "code",
   "execution_count": 70,
   "id": "03a03838",
   "metadata": {},
   "outputs": [
    {
     "data": {
      "image/png": "[encoded data removed]",
      "text/plain": [
       "<Figure size 1080x576 with 1 Axes>"
      ]
     },
     "metadata": {
      "needs_background": "light"
     },
     "output_type": "display_data"
    }
   ],
   "source": [
    "# Code of simple average model modified from source: \n",
    "# https://www.analyticsvidhya.com/blog/2018/02/time-series-forecasting-methods/?#\n",
    "\n",
    "#Creating train and test set\n",
    "#Index 305 = jan 31th 2020\n",
    "#Index lenght = 395\n",
    "\n",
    "#Train set: april 2020 - jan 2021, 82,3% of all data\n",
    "train = SA_data[0:306]\n",
    "\n",
    "#Test set: feb 2021 - april 2021, 17,7% of all data\n",
    "test = SA_data[306:]\n",
    "\n",
    "#Plotting data\n",
    "train.Number_of_cases.plot(figsize=(15,8), title= 'Number of corona infections per day', fontsize=14)\n",
    "test.Number_of_cases.plot(figsize=(15,8), title= 'Number of corona infections per day', fontsize=14)\n",
    "plt.show()\n"
   ]
  },
  {
   "cell_type": "code",
   "execution_count": 71,
   "id": "6bb21d1f",
   "metadata": {},
   "outputs": [
    {
     "data": {
      "text/html": [
       "<div>\n",
       "<style scoped>\n",
       "    .dataframe tbody tr th:only-of-type {\n",
       "        vertical-align: middle;\n",
       "    }\n",
       "\n",
       "    .dataframe tbody tr th {\n",
       "        vertical-align: top;\n",
       "    }\n",
       "\n",
       "    .dataframe thead th {\n",
       "        text-align: right;\n",
       "    }\n",
       "</style>\n",
       "<table border=\"1\" class=\"dataframe\">\n",
       "  <thead>\n",
       "    <tr style=\"text-align: right;\">\n",
       "      <th></th>\n",
       "      <th>Number_of_cases</th>\n",
       "    </tr>\n",
       "  </thead>\n",
       "  <tbody>\n",
       "    <tr>\n",
       "      <th>count</th>\n",
       "      <td>395.000000</td>\n",
       "    </tr>\n",
       "    <tr>\n",
       "      <th>mean</th>\n",
       "      <td>3756.346835</td>\n",
       "    </tr>\n",
       "    <tr>\n",
       "      <th>std</th>\n",
       "      <td>3376.537146</td>\n",
       "    </tr>\n",
       "    <tr>\n",
       "      <th>min</th>\n",
       "      <td>36.000000</td>\n",
       "    </tr>\n",
       "    <tr>\n",
       "      <th>25%</th>\n",
       "      <td>456.000000</td>\n",
       "    </tr>\n",
       "    <tr>\n",
       "      <th>50%</th>\n",
       "      <td>3834.000000</td>\n",
       "    </tr>\n",
       "    <tr>\n",
       "      <th>75%</th>\n",
       "      <td>6384.500000</td>\n",
       "    </tr>\n",
       "    <tr>\n",
       "      <th>max</th>\n",
       "      <td>13032.000000</td>\n",
       "    </tr>\n",
       "  </tbody>\n",
       "</table>\n",
       "</div>"
      ],
      "text/plain": [
       "       Number_of_cases\n",
       "count       395.000000\n",
       "mean       3756.346835\n",
       "std        3376.537146\n",
       "min          36.000000\n",
       "25%         456.000000\n",
       "50%        3834.000000\n",
       "75%        6384.500000\n",
       "max       13032.000000"
      ]
     },
     "execution_count": 71,
     "metadata": {},
     "output_type": "execute_result"
    }
   ],
   "source": [
    "# Simple average model statistics\n",
    "SA_data.describe()"
   ]
  },
  {
   "cell_type": "code",
   "execution_count": 72,
   "id": "e8dcff21",
   "metadata": {},
   "outputs": [],
   "source": [
    "from sklearn.metrics import mean_squared_error\n",
    "from sklearn.metrics import mean_absolute_error\n",
    "from math import sqrt"
   ]
  },
  {
   "cell_type": "code",
   "execution_count": 73,
   "id": "873dbb66",
   "metadata": {},
   "outputs": [
    {
     "data": {
      "image/png": "[encoded data removed]",
      "text/plain": [
       "<Figure size 1080x576 with 1 Axes>"
      ]
     },
     "metadata": {
      "needs_background": "light"
     },
     "output_type": "display_data"
    }
   ],
   "source": [
    "#Constructing the model that predicts the average value of the number of COVID-19 cases\n",
    "\n",
    "y_hat_avg = test.copy()\n",
    "y_hat_avg['avg_forecast'] = train['Number_of_cases'].mean()\n",
    "plt.figure(figsize=(15,8))\n",
    "plt.plot(train['Number_of_cases'], label='Train')\n",
    "plt.plot(test['Number_of_cases'], label='Test')\n",
    "plt.plot(y_hat_avg['avg_forecast'], label='Average Forecast')\n",
    "plt.legend(loc='best')\n",
    "plt.show()"
   ]
  },
  {
   "cell_type": "code",
   "execution_count": 74,
   "id": "70a38c5c",
   "metadata": {},
   "outputs": [
    {
     "name": "stdout",
     "output_type": "stream",
     "text": [
      "3222.913457012739\n"
     ]
    }
   ],
   "source": [
    "rmse = sqrt(mean_squared_error(test.Number_of_cases, y_hat_avg.avg_forecast))\n",
    "print(rmse)\n"
   ]
  },
  {
   "cell_type": "code",
   "execution_count": 75,
   "id": "5d75563d",
   "metadata": {},
   "outputs": [
    {
     "name": "stdout",
     "output_type": "stream",
     "text": [
      "2733.1559814937214\n"
     ]
    }
   ],
   "source": [
    "mae = mean_absolute_error(test.Number_of_cases, y_hat_avg.avg_forecast)\n",
    "print(mae)\n"
   ]
  },
  {
   "cell_type": "markdown",
   "id": "11442bb8",
   "metadata": {},
   "source": [
    "# Moving Average (MA) model"
   ]
  },
  {
   "cell_type": "code",
   "execution_count": 76,
   "id": "4b52413b",
   "metadata": {},
   "outputs": [],
   "source": [
    "from statsmodels.tsa.arima.model import ARIMA"
   ]
  },
  {
   "cell_type": "code",
   "execution_count": 77,
   "id": "dc895599",
   "metadata": {},
   "outputs": [
    {
     "data": {
      "text/html": [
       "<div>\n",
       "<style scoped>\n",
       "    .dataframe tbody tr th:only-of-type {\n",
       "        vertical-align: middle;\n",
       "    }\n",
       "\n",
       "    .dataframe tbody tr th {\n",
       "        vertical-align: top;\n",
       "    }\n",
       "\n",
       "    .dataframe thead th {\n",
       "        text-align: right;\n",
       "    }\n",
       "</style>\n",
       "<table border=\"1\" class=\"dataframe\">\n",
       "  <thead>\n",
       "    <tr style=\"text-align: right;\">\n",
       "      <th></th>\n",
       "      <th>Number_of_cases</th>\n",
       "    </tr>\n",
       "  </thead>\n",
       "  <tbody>\n",
       "    <tr>\n",
       "      <th>2020-04-01</th>\n",
       "      <td>1019</td>\n",
       "    </tr>\n",
       "    <tr>\n",
       "      <th>2020-04-02</th>\n",
       "      <td>1083</td>\n",
       "    </tr>\n",
       "    <tr>\n",
       "      <th>2020-04-03</th>\n",
       "      <td>1026</td>\n",
       "    </tr>\n",
       "    <tr>\n",
       "      <th>2020-04-04</th>\n",
       "      <td>904</td>\n",
       "    </tr>\n",
       "    <tr>\n",
       "      <th>2020-04-05</th>\n",
       "      <td>1224</td>\n",
       "    </tr>\n",
       "    <tr>\n",
       "      <th>...</th>\n",
       "      <td>...</td>\n",
       "    </tr>\n",
       "    <tr>\n",
       "      <th>2021-04-26</th>\n",
       "      <td>6200</td>\n",
       "    </tr>\n",
       "    <tr>\n",
       "      <th>2021-04-27</th>\n",
       "      <td>5337</td>\n",
       "    </tr>\n",
       "    <tr>\n",
       "      <th>2021-04-28</th>\n",
       "      <td>8649</td>\n",
       "    </tr>\n",
       "    <tr>\n",
       "      <th>2021-04-29</th>\n",
       "      <td>7271</td>\n",
       "    </tr>\n",
       "    <tr>\n",
       "      <th>2021-04-30</th>\n",
       "      <td>7758</td>\n",
       "    </tr>\n",
       "  </tbody>\n",
       "</table>\n",
       "<p>395 rows × 1 columns</p>\n",
       "</div>"
      ],
      "text/plain": [
       "            Number_of_cases\n",
       "2020-04-01             1019\n",
       "2020-04-02             1083\n",
       "2020-04-03             1026\n",
       "2020-04-04              904\n",
       "2020-04-05             1224\n",
       "...                     ...\n",
       "2021-04-26             6200\n",
       "2021-04-27             5337\n",
       "2021-04-28             8649\n",
       "2021-04-29             7271\n",
       "2021-04-30             7758\n",
       "\n",
       "[395 rows x 1 columns]"
      ]
     },
     "metadata": {},
     "output_type": "display_data"
    }
   ],
   "source": [
    "MA_data = time_series_01.to_frame('Number_of_cases')\n",
    "display(MA_data)\n"
   ]
  },
  {
   "cell_type": "code",
   "execution_count": 78,
   "id": "73051104",
   "metadata": {},
   "outputs": [
    {
     "name": "stdout",
     "output_type": "stream",
     "text": [
      "2021-02-01    3366.569159\n",
      "2021-02-02    3155.119129\n",
      "2021-02-03    3155.119129\n",
      "2021-02-04    3155.119129\n",
      "2021-02-05    3155.119129\n",
      "                 ...     \n",
      "2021-04-26    3155.119129\n",
      "2021-04-27    3155.119129\n",
      "2021-04-28    3155.119129\n",
      "2021-04-29    3155.119129\n",
      "2021-04-30    3155.119129\n",
      "Freq: D, Name: predicted_mean, Length: 89, dtype: float64\n"
     ]
    }
   ],
   "source": [
    "#The following MA model is a modified version from source: \n",
    "#https://www.dezyre.com/recipes/forecast-moving-averages-for-time-series\n",
    "\n",
    "train = MA_data[0:306] #Train set: april 2020 - jan 2020, 77,5% of all data\n",
    "test = MA_data[306:] #Test set: feb 2021 - april 2021, 22,5% of all data\n",
    "\n",
    "model = ARIMA(train.Number_of_cases, order=(0, 0, 1)).fit()\n",
    "\n",
    "predictions = model.predict(start=len(train), end=len(train) + len(test)-1)\n",
    "print(predictions)\n"
   ]
  },
  {
   "cell_type": "code",
   "execution_count": 79,
   "id": "a46c5a38",
   "metadata": {},
   "outputs": [
    {
     "name": "stdout",
     "output_type": "stream",
     "text": [
      "                               SARIMAX Results                                \n",
      "==============================================================================\n",
      "Dep. Variable:        Number_of_cases   No. Observations:                  306\n",
      "Model:                 ARIMA(0, 0, 1)   Log Likelihood               -2752.972\n",
      "Date:                Wed, 07 Jul 2021   AIC                           5511.944\n",
      "Time:                        16:26:08   BIC                           5523.115\n",
      "Sample:                    04-01-2020   HQIC                          5516.411\n",
      "                         - 01-31-2021                                         \n",
      "Covariance Type:                  opg                                         \n",
      "==============================================================================\n",
      "                 coef    std err          z      P>|z|      [0.025      0.975]\n",
      "------------------------------------------------------------------------------\n",
      "const       3155.1191    319.207      9.884      0.000    2529.484    3780.754\n",
      "ma.L1          0.9024      0.020     44.168      0.000       0.862       0.942\n",
      "sigma2      3.796e+06   4.37e+05      8.682      0.000    2.94e+06    4.65e+06\n",
      "===================================================================================\n",
      "Ljung-Box (L1) (Q):                 179.96   Jarque-Bera (JB):                63.49\n",
      "Prob(Q):                              0.00   Prob(JB):                         0.00\n",
      "Heteroskedasticity (H):               3.23   Skew:                             1.11\n",
      "Prob(H) (two-sided):                  0.00   Kurtosis:                         3.22\n",
      "===================================================================================\n",
      "\n",
      "Warnings:\n",
      "[1] Covariance matrix calculated using the outer product of gradients (complex-step).\n"
     ]
    }
   ],
   "source": [
    "print(model.summary())"
   ]
  },
  {
   "cell_type": "code",
   "execution_count": 80,
   "id": "4618a5b1",
   "metadata": {},
   "outputs": [
    {
     "name": "stdout",
     "output_type": "stream",
     "text": [
      "3224.083635319909\n"
     ]
    }
   ],
   "source": [
    "rmse = sqrt(mean_squared_error(test.Number_of_cases, predictions))\n",
    "print(rmse)"
   ]
  },
  {
   "cell_type": "code",
   "execution_count": 81,
   "id": "56ab23b2",
   "metadata": {},
   "outputs": [
    {
     "name": "stdout",
     "output_type": "stream",
     "text": [
      "2736.022908715955\n"
     ]
    }
   ],
   "source": [
    "mae = mean_absolute_error(test.Number_of_cases, predictions)\n",
    "print(mae)"
   ]
  },
  {
   "cell_type": "markdown",
   "id": "d20c5dea",
   "metadata": {},
   "source": [
    "# Autoregressive (AR) model"
   ]
  },
  {
   "cell_type": "code",
   "execution_count": 82,
   "id": "0b51ec6d",
   "metadata": {},
   "outputs": [
    {
     "data": {
      "text/html": [
       "<div>\n",
       "<style scoped>\n",
       "    .dataframe tbody tr th:only-of-type {\n",
       "        vertical-align: middle;\n",
       "    }\n",
       "\n",
       "    .dataframe tbody tr th {\n",
       "        vertical-align: top;\n",
       "    }\n",
       "\n",
       "    .dataframe thead th {\n",
       "        text-align: right;\n",
       "    }\n",
       "</style>\n",
       "<table border=\"1\" class=\"dataframe\">\n",
       "  <thead>\n",
       "    <tr style=\"text-align: right;\">\n",
       "      <th></th>\n",
       "      <th>Number_of_cases</th>\n",
       "    </tr>\n",
       "  </thead>\n",
       "  <tbody>\n",
       "    <tr>\n",
       "      <th>2020-04-01</th>\n",
       "      <td>1019</td>\n",
       "    </tr>\n",
       "    <tr>\n",
       "      <th>2020-04-02</th>\n",
       "      <td>1083</td>\n",
       "    </tr>\n",
       "    <tr>\n",
       "      <th>2020-04-03</th>\n",
       "      <td>1026</td>\n",
       "    </tr>\n",
       "    <tr>\n",
       "      <th>2020-04-04</th>\n",
       "      <td>904</td>\n",
       "    </tr>\n",
       "    <tr>\n",
       "      <th>2020-04-05</th>\n",
       "      <td>1224</td>\n",
       "    </tr>\n",
       "    <tr>\n",
       "      <th>...</th>\n",
       "      <td>...</td>\n",
       "    </tr>\n",
       "    <tr>\n",
       "      <th>2021-04-26</th>\n",
       "      <td>6200</td>\n",
       "    </tr>\n",
       "    <tr>\n",
       "      <th>2021-04-27</th>\n",
       "      <td>5337</td>\n",
       "    </tr>\n",
       "    <tr>\n",
       "      <th>2021-04-28</th>\n",
       "      <td>8649</td>\n",
       "    </tr>\n",
       "    <tr>\n",
       "      <th>2021-04-29</th>\n",
       "      <td>7271</td>\n",
       "    </tr>\n",
       "    <tr>\n",
       "      <th>2021-04-30</th>\n",
       "      <td>7758</td>\n",
       "    </tr>\n",
       "  </tbody>\n",
       "</table>\n",
       "<p>395 rows × 1 columns</p>\n",
       "</div>"
      ],
      "text/plain": [
       "            Number_of_cases\n",
       "2020-04-01             1019\n",
       "2020-04-02             1083\n",
       "2020-04-03             1026\n",
       "2020-04-04              904\n",
       "2020-04-05             1224\n",
       "...                     ...\n",
       "2021-04-26             6200\n",
       "2021-04-27             5337\n",
       "2021-04-28             8649\n",
       "2021-04-29             7271\n",
       "2021-04-30             7758\n",
       "\n",
       "[395 rows x 1 columns]"
      ]
     },
     "metadata": {},
     "output_type": "display_data"
    }
   ],
   "source": [
    "AR_data = time_series_01.to_frame('Number_of_cases')\n",
    "display(AR_data)\n"
   ]
  },
  {
   "cell_type": "code",
   "execution_count": 83,
   "id": "80225d22",
   "metadata": {},
   "outputs": [
    {
     "name": "stdout",
     "output_type": "stream",
     "text": [
      "2021-02-01    3762.931305\n",
      "2021-02-02    3885.514741\n",
      "2021-02-03    3891.498188\n",
      "2021-02-04    3861.291403\n",
      "2021-02-05    3841.525999\n",
      "                 ...     \n",
      "2021-04-26    3458.904335\n",
      "2021-04-27    3455.800041\n",
      "2021-04-28    3452.727611\n",
      "2021-04-29    3449.686718\n",
      "2021-04-30    3446.677038\n",
      "Freq: D, Name: predicted_mean, Length: 89, dtype: float64\n"
     ]
    }
   ],
   "source": [
    "#The following AR model is a modified version from source: \n",
    "#https://www.dezyre.com/recipes/forecast-moving-averages-for-time-series\n",
    "\n",
    "train = MA_data[0:306] #Train set: april 2020 - jan 2020, 77,5% of all data\n",
    "test = MA_data[306:] #Test set: feb 2021 - april 2021, 22,5% of all data\n",
    "\n",
    "model = ARIMA(train.Number_of_cases, order=(5, 0, 0)).fit()\n",
    "\n",
    "predictions = model.predict(start=len(train), end=len(train) + len(test)-1)\n",
    "print(predictions)\n"
   ]
  },
  {
   "cell_type": "code",
   "execution_count": 84,
   "id": "330969b2",
   "metadata": {},
   "outputs": [
    {
     "name": "stdout",
     "output_type": "stream",
     "text": [
      "                               SARIMAX Results                                \n",
      "==============================================================================\n",
      "Dep. Variable:        Number_of_cases   No. Observations:                  306\n",
      "Model:                 ARIMA(5, 0, 0)   Log Likelihood               -2394.028\n",
      "Date:                Wed, 07 Jul 2021   AIC                           4802.057\n",
      "Time:                        16:26:31   BIC                           4828.122\n",
      "Sample:                    04-01-2020   HQIC                          4812.481\n",
      "                         - 01-31-2021                                         \n",
      "Covariance Type:                  opg                                         \n",
      "==============================================================================\n",
      "                 coef    std err          z      P>|z|      [0.025      0.975]\n",
      "------------------------------------------------------------------------------\n",
      "const       3156.4704   4231.046      0.746      0.456   -5136.228    1.14e+04\n",
      "ar.L1          0.9694      0.036     27.258      0.000       0.900       1.039\n",
      "ar.L2         -0.2220      0.050     -4.466      0.000      -0.319      -0.125\n",
      "ar.L3          0.1790      0.056      3.216      0.001       0.070       0.288\n",
      "ar.L4          0.0320      0.048      0.674      0.500      -0.061       0.125\n",
      "ar.L5          0.0277      0.036      0.775      0.438      -0.042       0.098\n",
      "sigma2      3.665e+05   1.59e+04     23.014      0.000    3.35e+05    3.98e+05\n",
      "===================================================================================\n",
      "Ljung-Box (L1) (Q):                   0.01   Jarque-Bera (JB):              1400.92\n",
      "Prob(Q):                              0.93   Prob(JB):                         0.00\n",
      "Heteroskedasticity (H):              69.46   Skew:                             1.29\n",
      "Prob(H) (two-sided):                  0.00   Kurtosis:                        13.16\n",
      "===================================================================================\n",
      "\n",
      "Warnings:\n",
      "[1] Covariance matrix calculated using the outer product of gradients (complex-step).\n"
     ]
    }
   ],
   "source": [
    "print(model.summary())\n"
   ]
  },
  {
   "cell_type": "code",
   "execution_count": 85,
   "id": "e7c5e401",
   "metadata": {},
   "outputs": [
    {
     "name": "stdout",
     "output_type": "stream",
     "text": [
      "2913.896547215733\n"
     ]
    }
   ],
   "source": [
    "rmse = sqrt(mean_squared_error(test.Number_of_cases, predictions))\n",
    "print(rmse)"
   ]
  },
  {
   "cell_type": "code",
   "execution_count": 86,
   "id": "19c40822",
   "metadata": {},
   "outputs": [
    {
     "name": "stdout",
     "output_type": "stream",
     "text": [
      "2369.612047062154\n"
     ]
    }
   ],
   "source": [
    "mae = mean_absolute_error(test.Number_of_cases, predictions)\n",
    "print(mae)"
   ]
  },
  {
   "cell_type": "markdown",
   "id": "42f9531f",
   "metadata": {},
   "source": [
    "# Simple Exponential Smoothing (SES) Model "
   ]
  },
  {
   "cell_type": "code",
   "execution_count": 87,
   "id": "21d5ea2a",
   "metadata": {},
   "outputs": [],
   "source": [
    "from statsmodels.tsa.api import ExponentialSmoothing, SimpleExpSmoothing, Holt\n"
   ]
  },
  {
   "cell_type": "code",
   "execution_count": 88,
   "id": "2ee85b07",
   "metadata": {},
   "outputs": [
    {
     "data": {
      "text/html": [
       "<div>\n",
       "<style scoped>\n",
       "    .dataframe tbody tr th:only-of-type {\n",
       "        vertical-align: middle;\n",
       "    }\n",
       "\n",
       "    .dataframe tbody tr th {\n",
       "        vertical-align: top;\n",
       "    }\n",
       "\n",
       "    .dataframe thead th {\n",
       "        text-align: right;\n",
       "    }\n",
       "</style>\n",
       "<table border=\"1\" class=\"dataframe\">\n",
       "  <thead>\n",
       "    <tr style=\"text-align: right;\">\n",
       "      <th></th>\n",
       "      <th>Number_of_cases</th>\n",
       "    </tr>\n",
       "  </thead>\n",
       "  <tbody>\n",
       "    <tr>\n",
       "      <th>2020-04-01</th>\n",
       "      <td>1019</td>\n",
       "    </tr>\n",
       "    <tr>\n",
       "      <th>2020-04-02</th>\n",
       "      <td>1083</td>\n",
       "    </tr>\n",
       "    <tr>\n",
       "      <th>2020-04-03</th>\n",
       "      <td>1026</td>\n",
       "    </tr>\n",
       "    <tr>\n",
       "      <th>2020-04-04</th>\n",
       "      <td>904</td>\n",
       "    </tr>\n",
       "    <tr>\n",
       "      <th>2020-04-05</th>\n",
       "      <td>1224</td>\n",
       "    </tr>\n",
       "    <tr>\n",
       "      <th>...</th>\n",
       "      <td>...</td>\n",
       "    </tr>\n",
       "    <tr>\n",
       "      <th>2021-04-26</th>\n",
       "      <td>6200</td>\n",
       "    </tr>\n",
       "    <tr>\n",
       "      <th>2021-04-27</th>\n",
       "      <td>5337</td>\n",
       "    </tr>\n",
       "    <tr>\n",
       "      <th>2021-04-28</th>\n",
       "      <td>8649</td>\n",
       "    </tr>\n",
       "    <tr>\n",
       "      <th>2021-04-29</th>\n",
       "      <td>7271</td>\n",
       "    </tr>\n",
       "    <tr>\n",
       "      <th>2021-04-30</th>\n",
       "      <td>7758</td>\n",
       "    </tr>\n",
       "  </tbody>\n",
       "</table>\n",
       "<p>395 rows × 1 columns</p>\n",
       "</div>"
      ],
      "text/plain": [
       "            Number_of_cases\n",
       "2020-04-01             1019\n",
       "2020-04-02             1083\n",
       "2020-04-03             1026\n",
       "2020-04-04              904\n",
       "2020-04-05             1224\n",
       "...                     ...\n",
       "2021-04-26             6200\n",
       "2021-04-27             5337\n",
       "2021-04-28             8649\n",
       "2021-04-29             7271\n",
       "2021-04-30             7758\n",
       "\n",
       "[395 rows x 1 columns]"
      ]
     },
     "metadata": {},
     "output_type": "display_data"
    }
   ],
   "source": [
    "SES_data = time_series_01.to_frame('Number_of_cases')\n",
    "display(SES_data)\n",
    "\n",
    "#Train set: april 2020 - jan 2020, 77.5% of all data\n",
    "train = SES_data[0:306]\n",
    "\n",
    "#Test set: feb 2021 - april 2021, 22.5% of all data\n",
    "test = SES_data[306:]\n"
   ]
  },
  {
   "cell_type": "code",
   "execution_count": 89,
   "id": "63663293",
   "metadata": {},
   "outputs": [
    {
     "data": {
      "text/plain": [
       "<AxesSubplot:title={'center':'Corana infections per day'}>"
      ]
     },
     "execution_count": 89,
     "metadata": {},
     "output_type": "execute_result"
    },
    {
     "data": {
      "image/png": "[encoded data removed]",
      "text/plain": [
       "<Figure size 432x288 with 1 Axes>"
      ]
     },
     "metadata": {
      "needs_background": "light"
     },
     "output_type": "display_data"
    }
   ],
   "source": [
    "#SES run-sequence plot\n",
    "\n",
    "SES_data[['Number_of_cases']].plot(title='Corana infections per day')"
   ]
  },
  {
   "cell_type": "code",
   "execution_count": 90,
   "id": "6dc992bb",
   "metadata": {},
   "outputs": [
    {
     "name": "stderr",
     "output_type": "stream",
     "text": [
      "/Users/stevenkraamwinkel/opt/anaconda3/lib/python3.7/site-packages/statsmodels/tsa/holtwinters/model.py:429: FutureWarning: After 0.13 initialization must be handled at model creation\n",
      "  FutureWarning,\n"
     ]
    },
    {
     "data": {
      "image/png": "[encoded data removed]",
      "text/plain": [
       "<Figure size 1152x576 with 1 Axes>"
      ]
     },
     "metadata": {
      "needs_background": "light"
     },
     "output_type": "display_data"
    }
   ],
   "source": [
    "# Code of simple exponential smoothing model modified from source: \n",
    "# https://www.analyticsvidhya.com/blog/2018/02/time-series-forecasting-methods/?#\n",
    "\n",
    "y_hat_avg = test.copy()\n",
    "fit2 = SimpleExpSmoothing(np.asarray(train['Number_of_cases'])).fit(smoothing_level=0.06,optimized=False)\n",
    "y_hat_avg['SES'] = fit2.forecast(len(test))\n",
    "plt.figure(figsize=(16,8))\n",
    "plt.plot(train['Number_of_cases'], label='Train')\n",
    "plt.plot(test['Number_of_cases'], label='Test')\n",
    "plt.plot(y_hat_avg['SES'], label='SES')\n",
    "plt.legend(loc='best')\n",
    "plt.show()\n"
   ]
  },
  {
   "cell_type": "code",
   "execution_count": 91,
   "id": "638d1326",
   "metadata": {},
   "outputs": [
    {
     "data": {
      "text/html": [
       "<table class=\"simpletable\">\n",
       "<caption>SimpleExpSmoothing Model Results</caption>\n",
       "<tr>\n",
       "  <th>Dep. Variable:</th>           <td>endog</td>       <th>  No. Observations:  </th>        <td>306</td>      \n",
       "</tr>\n",
       "<tr>\n",
       "  <th>Model:</th>            <td>SimpleExpSmoothing</td> <th>  SSE                </th>   <td>714090625.357</td> \n",
       "</tr>\n",
       "<tr>\n",
       "  <th>Optimized:</th>               <td>False</td>       <th>  AIC                </th>     <td>4490.858</td>    \n",
       "</tr>\n",
       "<tr>\n",
       "  <th>Trend:</th>                   <td>None</td>        <th>  BIC                </th>     <td>4498.305</td>    \n",
       "</tr>\n",
       "<tr>\n",
       "  <th>Seasonal:</th>                <td>None</td>        <th>  AICC               </th>     <td>4490.991</td>    \n",
       "</tr>\n",
       "<tr>\n",
       "  <th>Seasonal Periods:</th>        <td>None</td>        <th>  Date:              </th> <td>Wed, 07 Jul 2021</td>\n",
       "</tr>\n",
       "<tr>\n",
       "  <th>Box-Cox:</th>                 <td>False</td>       <th>  Time:              </th>     <td>16:26:44</td>    \n",
       "</tr>\n",
       "<tr>\n",
       "  <th>Box-Cox Coeff.:</th>          <td>None</td>        <th>                     </th>         <td> </td>       \n",
       "</tr>\n",
       "</table>\n",
       "<table class=\"simpletable\">\n",
       "<tr>\n",
       "         <td></td>                 <th>coeff</th>                <th>code</th>               <th>optimized</th>     \n",
       "</tr>\n",
       "<tr>\n",
       "  <th>smoothing_level</th> <td>           0.0600000</td> <td>               alpha</td> <td>               False</td>\n",
       "</tr>\n",
       "<tr>\n",
       "  <th>initial_level</th>   <td>           1019.0000</td> <td>                 l.0</td> <td>               False</td>\n",
       "</tr>\n",
       "</table>"
      ],
      "text/plain": [
       "<class 'statsmodels.iolib.summary.Summary'>\n",
       "\"\"\"\n",
       "                       SimpleExpSmoothing Model Results                       \n",
       "==============================================================================\n",
       "Dep. Variable:                  endog   No. Observations:                  306\n",
       "Model:             SimpleExpSmoothing   SSE                      714090625.357\n",
       "Optimized:                      False   AIC                           4490.858\n",
       "Trend:                           None   BIC                           4498.305\n",
       "Seasonal:                        None   AICC                          4490.991\n",
       "Seasonal Periods:                None   Date:                 Wed, 07 Jul 2021\n",
       "Box-Cox:                        False   Time:                         16:26:44\n",
       "Box-Cox Coeff.:                  None                                         \n",
       "==============================================================================\n",
       "                       coeff                 code              optimized      \n",
       "------------------------------------------------------------------------------\n",
       "smoothing_level            0.0600000                alpha                False\n",
       "initial_level              1019.0000                  l.0                False\n",
       "------------------------------------------------------------------------------\n",
       "\"\"\""
      ]
     },
     "execution_count": 91,
     "metadata": {},
     "output_type": "execute_result"
    }
   ],
   "source": [
    "fit2.summary()"
   ]
  },
  {
   "cell_type": "code",
   "execution_count": 92,
   "id": "9af5a801",
   "metadata": {},
   "outputs": [
    {
     "name": "stdout",
     "output_type": "stream",
     "text": [
      "1817.1115789499693\n"
     ]
    }
   ],
   "source": [
    "rmse = sqrt(mean_squared_error(test.Number_of_cases, y_hat_avg.SES))\n",
    "print(rmse)"
   ]
  },
  {
   "cell_type": "code",
   "execution_count": 93,
   "id": "3e9a53f5",
   "metadata": {},
   "outputs": [
    {
     "name": "stdout",
     "output_type": "stream",
     "text": [
      "1567.400286901896\n"
     ]
    }
   ],
   "source": [
    "mae = mean_absolute_error(test.Number_of_cases, y_hat_avg.SES)\n",
    "print(mae)"
   ]
  },
  {
   "cell_type": "markdown",
   "id": "3bb48f22",
   "metadata": {},
   "source": [
    "### SES smoothing plot"
   ]
  },
  {
   "cell_type": "code",
   "execution_count": 94,
   "id": "2b6c9215",
   "metadata": {},
   "outputs": [
    {
     "name": "stderr",
     "output_type": "stream",
     "text": [
      "/Users/stevenkraamwinkel/opt/anaconda3/lib/python3.7/site-packages/statsmodels/tsa/holtwinters/model.py:429: FutureWarning: After 0.13 initialization must be handled at model creation\n",
      "  FutureWarning,\n"
     ]
    },
    {
     "data": {
      "text/plain": [
       "<AxesSubplot:title={'center':'Holt Winters Single Exponential Smoothing'}>"
      ]
     },
     "execution_count": 94,
     "metadata": {},
     "output_type": "execute_result"
    },
    {
     "data": {
      "image/png": "[encoded data removed]",
      "text/plain": [
       "<Figure size 432x288 with 1 Axes>"
      ]
     },
     "metadata": {
      "needs_background": "light"
     },
     "output_type": "display_data"
    }
   ],
   "source": [
    "SES_data['SES'] = SimpleExpSmoothing(SES_data['Number_of_cases']).fit(smoothing_level=0.06, \n",
    "                                                                     optimized=False,use_brute=\n",
    "                                                                     True).fittedvalues\n",
    "\n",
    "SES_data[['Number_of_cases', 'SES']].plot(title='Holt Winters Single Exponential Smoothing')\n"
   ]
  },
  {
   "cell_type": "markdown",
   "id": "c01f5806",
   "metadata": {},
   "source": [
    "# Holt Winter's Exponential Smoothing (HWES)"
   ]
  },
  {
   "cell_type": "code",
   "execution_count": 95,
   "id": "fdbcffce",
   "metadata": {},
   "outputs": [],
   "source": [
    "HWES_data = time_series_01.to_frame('Number_of_cases')\n",
    "\n",
    "#Train set: april 2020 - dec 2020, 82,3% of all data\n",
    "train = HWES_data[0:306]\n",
    "\n",
    "#Test set: jan 2021 - feb 2021, 17,7% of all data\n",
    "test = HWES_data[306:]\n"
   ]
  },
  {
   "cell_type": "code",
   "execution_count": 97,
   "id": "3afd758c",
   "metadata": {},
   "outputs": [
    {
     "name": "stderr",
     "output_type": "stream",
     "text": [
      "/Users/stevenkraamwinkel/opt/anaconda3/lib/python3.7/site-packages/statsmodels/tsa/holtwinters/model.py:429: FutureWarning: After 0.13 initialization must be handled at model creation\n",
      "  FutureWarning,\n",
      "/Users/stevenkraamwinkel/opt/anaconda3/lib/python3.7/site-packages/statsmodels/tsa/holtwinters/model.py:922: ConvergenceWarning: Optimization failed to converge. Check mle_retvals.\n",
      "  ConvergenceWarning,\n"
     ]
    },
    {
     "data": {
      "text/plain": [
       "Text(0.5, 1.0, 'Holt-Winters, Triple ES model')"
      ]
     },
     "execution_count": 97,
     "metadata": {},
     "output_type": "execute_result"
    },
    {
     "data": {
      "image/png": "[encoded data removed]",
      "text/plain": [
       "<Figure size 864x432 with 1 Axes>"
      ]
     },
     "metadata": {
      "needs_background": "light"
     },
     "output_type": "display_data"
    }
   ],
   "source": [
    "#The code is a modified version from source: \n",
    "#https://medium.com/analytics-vidhya/python-code-on-holt-winters-forecasting-3843808a9873\n",
    "\n",
    "HWES_model = ExponentialSmoothing(train['Number_of_cases'], trend='add', seasonal_periods=12).fit(smoothing_level=0.0955)\n",
    "\n",
    "\n",
    "test_predictions = HWES_model.forecast(len(test))\n",
    "\n",
    "train['Number_of_cases'].plot(legend=True, label='TRAIN')\n",
    "test['Number_of_cases'].plot(legend=True, label='TEST',figsize=(12,6))\n",
    "test_predictions.plot(legend=True, label='PREDICTION')\n",
    "\n",
    "plt.title('Holt-Winters, Triple ES model')\n"
   ]
  },
  {
   "cell_type": "code",
   "execution_count": 98,
   "id": "86ca2fe7",
   "metadata": {},
   "outputs": [
    {
     "data": {
      "text/html": [
       "<table class=\"simpletable\">\n",
       "<caption>ExponentialSmoothing Model Results</caption>\n",
       "<tr>\n",
       "  <th>Dep. Variable:</th>       <td>Number_of_cases</td>   <th>  No. Observations:  </th>        <td>306</td>      \n",
       "</tr>\n",
       "<tr>\n",
       "  <th>Model:</th>            <td>ExponentialSmoothing</td> <th>  SSE                </th>   <td>505652858.058</td> \n",
       "</tr>\n",
       "<tr>\n",
       "  <th>Optimized:</th>                <td>True</td>         <th>  AIC                </th>     <td>4389.239</td>    \n",
       "</tr>\n",
       "<tr>\n",
       "  <th>Trend:</th>                  <td>Additive</td>       <th>  BIC                </th>     <td>4404.134</td>    \n",
       "</tr>\n",
       "<tr>\n",
       "  <th>Seasonal:</th>                 <td>None</td>         <th>  AICC               </th>     <td>4389.520</td>    \n",
       "</tr>\n",
       "<tr>\n",
       "  <th>Seasonal Periods:</th>         <td>None</td>         <th>  Date:              </th> <td>Wed, 07 Jul 2021</td>\n",
       "</tr>\n",
       "<tr>\n",
       "  <th>Box-Cox:</th>                  <td>False</td>        <th>  Time:              </th>     <td>16:27:12</td>    \n",
       "</tr>\n",
       "<tr>\n",
       "  <th>Box-Cox Coeff.:</th>           <td>None</td>         <th>                     </th>         <td> </td>       \n",
       "</tr>\n",
       "</table>\n",
       "<table class=\"simpletable\">\n",
       "<tr>\n",
       "         <td></td>                 <th>coeff</th>                <th>code</th>               <th>optimized</th>     \n",
       "</tr>\n",
       "<tr>\n",
       "  <th>smoothing_level</th> <td>           0.0955000</td> <td>               alpha</td> <td>               False</td>\n",
       "</tr>\n",
       "<tr>\n",
       "  <th>smoothing_trend</th> <td>           0.0060031</td> <td>                beta</td> <td>                True</td>\n",
       "</tr>\n",
       "<tr>\n",
       "  <th>initial_level</th>   <td>           1018.8767</td> <td>                 l.0</td> <td>                True</td>\n",
       "</tr>\n",
       "<tr>\n",
       "  <th>initial_trend</th>   <td>           15.783935</td> <td>                 b.0</td> <td>                True</td>\n",
       "</tr>\n",
       "</table>"
      ],
      "text/plain": [
       "<class 'statsmodels.iolib.summary.Summary'>\n",
       "\"\"\"\n",
       "                       ExponentialSmoothing Model Results                       \n",
       "================================================================================\n",
       "Dep. Variable:          Number_of_cases   No. Observations:                  306\n",
       "Model:             ExponentialSmoothing   SSE                      505652858.058\n",
       "Optimized:                         True   AIC                           4389.239\n",
       "Trend:                         Additive   BIC                           4404.134\n",
       "Seasonal:                          None   AICC                          4389.520\n",
       "Seasonal Periods:                  None   Date:                 Wed, 07 Jul 2021\n",
       "Box-Cox:                          False   Time:                         16:27:12\n",
       "Box-Cox Coeff.:                    None                                         \n",
       "==============================================================================\n",
       "                       coeff                 code              optimized      \n",
       "------------------------------------------------------------------------------\n",
       "smoothing_level            0.0955000                alpha                False\n",
       "smoothing_trend            0.0060031                 beta                 True\n",
       "initial_level              1018.8767                  l.0                 True\n",
       "initial_trend              15.783935                  b.0                 True\n",
       "------------------------------------------------------------------------------\n",
       "\"\"\""
      ]
     },
     "execution_count": 98,
     "metadata": {},
     "output_type": "execute_result"
    }
   ],
   "source": [
    "HWES_model.summary()"
   ]
  },
  {
   "cell_type": "code",
   "execution_count": 99,
   "id": "0d3fd268",
   "metadata": {},
   "outputs": [
    {
     "name": "stdout",
     "output_type": "stream",
     "text": [
      "1611.336289818808\n"
     ]
    }
   ],
   "source": [
    "rmse = sqrt(mean_squared_error(test.Number_of_cases, test_predictions))\n",
    "print(rmse)"
   ]
  },
  {
   "cell_type": "code",
   "execution_count": 100,
   "id": "8873d2d6",
   "metadata": {},
   "outputs": [
    {
     "name": "stdout",
     "output_type": "stream",
     "text": [
      "1379.3418363599708\n"
     ]
    }
   ],
   "source": [
    "mae = mean_absolute_error(test.Number_of_cases, test_predictions)\n",
    "print(mae)"
   ]
  },
  {
   "cell_type": "markdown",
   "id": "ab1534af",
   "metadata": {},
   "source": [
    "END OF NOTEBOOK, VERSION: 19TH OF JUNE, 2021. TIME SERIES MODELLING 1\n"
   ]
  },
  {
   "cell_type": "code",
   "execution_count": null,
   "id": "643467ca",
   "metadata": {},
   "outputs": [],
   "source": []
  }
 ],
 "metadata": {
  "kernelspec": {
   "display_name": "Python 3",
   "language": "python",
   "name": "python3"
  },
  "language_info": {
   "codemirror_mode": {
    "name": "ipython",
    "version": 3
   },
   "file_extension": ".py",
   "mimetype": "text/x-python",
   "name": "python",
   "nbconvert_exporter": "python",
   "pygments_lexer": "ipython3",
   "version": "3.7.4"
  }
 },
 "nbformat": 4,
 "nbformat_minor": 5
}
