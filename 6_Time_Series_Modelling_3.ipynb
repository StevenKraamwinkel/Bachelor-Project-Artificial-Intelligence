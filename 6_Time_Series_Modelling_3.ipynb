{
 "cells": [
  {
   "cell_type": "markdown",
   "id": "e6c2965d",
   "metadata": {},
   "source": [
    "# Univariate multi-step CNN modelling with Keras"
   ]
  },
  {
   "cell_type": "code",
   "execution_count": 45,
   "id": "1ddfca2a",
   "metadata": {},
   "outputs": [],
   "source": [
    "from numpy import array\n",
    "from keras.models import Sequential\n",
    "from keras.layers import Dense\n",
    "from keras.layers import Flatten\n",
    "from keras.layers.convolutional import Conv1D\n",
    "from keras.layers.convolutional import MaxPooling1D\n"
   ]
  },
  {
   "cell_type": "markdown",
   "id": "2e14e200",
   "metadata": {},
   "source": [
    "## Data preparation phase - Dataset: number of COVID-19 infections per day"
   ]
  },
  {
   "cell_type": "markdown",
   "id": "bc5d5725",
   "metadata": {},
   "source": [
    "In the following lines the dataset is pre-processed, were the cumulative sums are transformed to their original values. The relevant data is than aggregated to daily sums of the number of corona virus infections per day. Also the train and test sets are defined. "
   ]
  },
  {
   "cell_type": "code",
   "execution_count": 46,
   "id": "656386b4",
   "metadata": {},
   "outputs": [],
   "source": [
    "import numpy as np\n",
    "import pandas as pd\n",
    "import matplotlib as plt\n",
    "from matplotlib import pyplot as plt\n"
   ]
  },
  {
   "cell_type": "code",
   "execution_count": 47,
   "id": "d1a1f444",
   "metadata": {},
   "outputs": [
    {
     "data": {
      "text/html": [
       "<div>\n",
       "<style scoped>\n",
       "    .dataframe tbody tr th:only-of-type {\n",
       "        vertical-align: middle;\n",
       "    }\n",
       "\n",
       "    .dataframe tbody tr th {\n",
       "        vertical-align: top;\n",
       "    }\n",
       "\n",
       "    .dataframe thead th {\n",
       "        text-align: right;\n",
       "    }\n",
       "</style>\n",
       "<table border=\"1\" class=\"dataframe\">\n",
       "  <thead>\n",
       "    <tr style=\"text-align: right;\">\n",
       "      <th></th>\n",
       "      <th>Date_of_report</th>\n",
       "      <th>Municipality_code</th>\n",
       "      <th>Municipality_name</th>\n",
       "      <th>Province</th>\n",
       "      <th>Total_reported</th>\n",
       "      <th>Hospital_admission</th>\n",
       "      <th>Deceased</th>\n",
       "    </tr>\n",
       "  </thead>\n",
       "  <tbody>\n",
       "    <tr>\n",
       "      <th>0</th>\n",
       "      <td>13/03/2020 10:00</td>\n",
       "      <td>GM0003</td>\n",
       "      <td>Appingedam</td>\n",
       "      <td>Groningen</td>\n",
       "      <td>0</td>\n",
       "      <td>0</td>\n",
       "      <td>0</td>\n",
       "    </tr>\n",
       "    <tr>\n",
       "      <th>1</th>\n",
       "      <td>13/03/2020 10:00</td>\n",
       "      <td>GM0010</td>\n",
       "      <td>Delfzijl</td>\n",
       "      <td>Groningen</td>\n",
       "      <td>0</td>\n",
       "      <td>0</td>\n",
       "      <td>0</td>\n",
       "    </tr>\n",
       "    <tr>\n",
       "      <th>2</th>\n",
       "      <td>13/03/2020 10:00</td>\n",
       "      <td>GM0014</td>\n",
       "      <td>Groningen</td>\n",
       "      <td>Groningen</td>\n",
       "      <td>3</td>\n",
       "      <td>0</td>\n",
       "      <td>0</td>\n",
       "    </tr>\n",
       "    <tr>\n",
       "      <th>3</th>\n",
       "      <td>13/03/2020 10:00</td>\n",
       "      <td>GM0024</td>\n",
       "      <td>Loppersum</td>\n",
       "      <td>Groningen</td>\n",
       "      <td>0</td>\n",
       "      <td>0</td>\n",
       "      <td>0</td>\n",
       "    </tr>\n",
       "    <tr>\n",
       "      <th>4</th>\n",
       "      <td>13/03/2020 10:00</td>\n",
       "      <td>GM0034</td>\n",
       "      <td>Almere</td>\n",
       "      <td>Flevoland</td>\n",
       "      <td>1</td>\n",
       "      <td>1</td>\n",
       "      <td>0</td>\n",
       "    </tr>\n",
       "    <tr>\n",
       "      <th>...</th>\n",
       "      <td>...</td>\n",
       "      <td>...</td>\n",
       "      <td>...</td>\n",
       "      <td>...</td>\n",
       "      <td>...</td>\n",
       "      <td>...</td>\n",
       "      <td>...</td>\n",
       "    </tr>\n",
       "    <tr>\n",
       "      <th>151955</th>\n",
       "      <td>01/05/2021 10:00</td>\n",
       "      <td>NaN</td>\n",
       "      <td>NaN</td>\n",
       "      <td>Noord-Holland</td>\n",
       "      <td>668</td>\n",
       "      <td>20</td>\n",
       "      <td>2</td>\n",
       "    </tr>\n",
       "    <tr>\n",
       "      <th>151956</th>\n",
       "      <td>01/05/2021 10:00</td>\n",
       "      <td>NaN</td>\n",
       "      <td>NaN</td>\n",
       "      <td>Zuid-Holland</td>\n",
       "      <td>2312</td>\n",
       "      <td>46</td>\n",
       "      <td>15</td>\n",
       "    </tr>\n",
       "    <tr>\n",
       "      <th>151957</th>\n",
       "      <td>01/05/2021 10:00</td>\n",
       "      <td>NaN</td>\n",
       "      <td>NaN</td>\n",
       "      <td>Zeeland</td>\n",
       "      <td>56</td>\n",
       "      <td>4</td>\n",
       "      <td>1</td>\n",
       "    </tr>\n",
       "    <tr>\n",
       "      <th>151958</th>\n",
       "      <td>01/05/2021 10:00</td>\n",
       "      <td>NaN</td>\n",
       "      <td>NaN</td>\n",
       "      <td>Noord-Brabant</td>\n",
       "      <td>1144</td>\n",
       "      <td>29</td>\n",
       "      <td>7</td>\n",
       "    </tr>\n",
       "    <tr>\n",
       "      <th>151959</th>\n",
       "      <td>01/05/2021 10:00</td>\n",
       "      <td>NaN</td>\n",
       "      <td>NaN</td>\n",
       "      <td>Limburg</td>\n",
       "      <td>347</td>\n",
       "      <td>8</td>\n",
       "      <td>3</td>\n",
       "    </tr>\n",
       "  </tbody>\n",
       "</table>\n",
       "<p>151960 rows × 7 columns</p>\n",
       "</div>"
      ],
      "text/plain": [
       "          Date_of_report Municipality_code Municipality_name       Province  \\\n",
       "0       13/03/2020 10:00            GM0003        Appingedam      Groningen   \n",
       "1       13/03/2020 10:00            GM0010          Delfzijl      Groningen   \n",
       "2       13/03/2020 10:00            GM0014         Groningen      Groningen   \n",
       "3       13/03/2020 10:00            GM0024         Loppersum      Groningen   \n",
       "4       13/03/2020 10:00            GM0034            Almere      Flevoland   \n",
       "...                  ...               ...               ...            ...   \n",
       "151955  01/05/2021 10:00               NaN               NaN  Noord-Holland   \n",
       "151956  01/05/2021 10:00               NaN               NaN   Zuid-Holland   \n",
       "151957  01/05/2021 10:00               NaN               NaN        Zeeland   \n",
       "151958  01/05/2021 10:00               NaN               NaN  Noord-Brabant   \n",
       "151959  01/05/2021 10:00               NaN               NaN        Limburg   \n",
       "\n",
       "        Total_reported  Hospital_admission  Deceased  \n",
       "0                    0                   0         0  \n",
       "1                    0                   0         0  \n",
       "2                    3                   0         0  \n",
       "3                    0                   0         0  \n",
       "4                    1                   1         0  \n",
       "...                ...                 ...       ...  \n",
       "151955             668                  20         2  \n",
       "151956            2312                  46        15  \n",
       "151957              56                   4         1  \n",
       "151958            1144                  29         7  \n",
       "151959             347                   8         3  \n",
       "\n",
       "[151960 rows x 7 columns]"
      ]
     },
     "metadata": {},
     "output_type": "display_data"
    }
   ],
   "source": [
    "dutch_data_01 = pd.read_csv('/Users/stevenkraamwinkel/Desktop/Datasets 1 mei/COVID-19_aantallen_gemeente_cumulatief_01_05.csv', parse_dates=True, delimiter=';')\n",
    "display(dutch_data_01)\n"
   ]
  },
  {
   "cell_type": "code",
   "execution_count": 48,
   "id": "a78d13c8",
   "metadata": {},
   "outputs": [],
   "source": [
    "covid_data = dutch_data_01.loc[:,('Date_of_report', 'Total_reported', 'Hospital_admission', 'Deceased')]\n",
    "covid_data['Date_of_report']= pd.to_datetime(covid_data['Date_of_report'], format='%d/%m/%Y %H:%M')\n",
    "covid_data = covid_data.set_index('Date_of_report')\n",
    "covid_data.loc[covid_data.index!='Date_of_report'].sum()\n",
    "covid_data = covid_data.resample('D').sum()\n"
   ]
  },
  {
   "cell_type": "code",
   "execution_count": 49,
   "id": "66c77cc6",
   "metadata": {},
   "outputs": [],
   "source": [
    "cumulative = covid_data['Total_reported']\n",
    "\n",
    "def B(cumulative):\n",
    "    output = [0] * len(cumulative)\n",
    "    for i,e in reversed(list(enumerate(cumulative))):\n",
    "        output[i]=cumulative[i] - cumulative[i-1]\n",
    "    output[0]=cumulative[0]\n",
    "    return output\n"
   ]
  },
  {
   "cell_type": "code",
   "execution_count": 50,
   "id": "c23483af",
   "metadata": {},
   "outputs": [
    {
     "data": {
      "text/html": [
       "<div>\n",
       "<style scoped>\n",
       "    .dataframe tbody tr th:only-of-type {\n",
       "        vertical-align: middle;\n",
       "    }\n",
       "\n",
       "    .dataframe tbody tr th {\n",
       "        vertical-align: top;\n",
       "    }\n",
       "\n",
       "    .dataframe thead th {\n",
       "        text-align: right;\n",
       "    }\n",
       "</style>\n",
       "<table border=\"1\" class=\"dataframe\">\n",
       "  <thead>\n",
       "    <tr style=\"text-align: right;\">\n",
       "      <th></th>\n",
       "      <th>Infections_per_day</th>\n",
       "    </tr>\n",
       "  </thead>\n",
       "  <tbody>\n",
       "    <tr>\n",
       "      <th>2020-03-13</th>\n",
       "      <td>804</td>\n",
       "    </tr>\n",
       "    <tr>\n",
       "      <th>2020-03-14</th>\n",
       "      <td>155</td>\n",
       "    </tr>\n",
       "    <tr>\n",
       "      <th>2020-03-15</th>\n",
       "      <td>176</td>\n",
       "    </tr>\n",
       "    <tr>\n",
       "      <th>2020-03-16</th>\n",
       "      <td>278</td>\n",
       "    </tr>\n",
       "    <tr>\n",
       "      <th>2020-03-17</th>\n",
       "      <td>292</td>\n",
       "    </tr>\n",
       "    <tr>\n",
       "      <th>...</th>\n",
       "      <td>...</td>\n",
       "    </tr>\n",
       "    <tr>\n",
       "      <th>2021-04-27</th>\n",
       "      <td>5337</td>\n",
       "    </tr>\n",
       "    <tr>\n",
       "      <th>2021-04-28</th>\n",
       "      <td>8649</td>\n",
       "    </tr>\n",
       "    <tr>\n",
       "      <th>2021-04-29</th>\n",
       "      <td>7271</td>\n",
       "    </tr>\n",
       "    <tr>\n",
       "      <th>2021-04-30</th>\n",
       "      <td>7758</td>\n",
       "    </tr>\n",
       "    <tr>\n",
       "      <th>2021-05-01</th>\n",
       "      <td>5755</td>\n",
       "    </tr>\n",
       "  </tbody>\n",
       "</table>\n",
       "<p>415 rows × 1 columns</p>\n",
       "</div>"
      ],
      "text/plain": [
       "            Infections_per_day\n",
       "2020-03-13                 804\n",
       "2020-03-14                 155\n",
       "2020-03-15                 176\n",
       "2020-03-16                 278\n",
       "2020-03-17                 292\n",
       "...                        ...\n",
       "2021-04-27                5337\n",
       "2021-04-28                8649\n",
       "2021-04-29                7271\n",
       "2021-04-30                7758\n",
       "2021-05-01                5755\n",
       "\n",
       "[415 rows x 1 columns]"
      ]
     },
     "metadata": {},
     "output_type": "display_data"
    }
   ],
   "source": [
    "input_data = pd.DataFrame(B(cumulative), index = pd.date_range('03/13/2020', '05/01/2021'), columns = {'Infections_per_day'})\n",
    "display(input_data)\n"
   ]
  },
  {
   "cell_type": "code",
   "execution_count": 51,
   "id": "7933466e",
   "metadata": {},
   "outputs": [],
   "source": [
    "# Defining the train and test set\n",
    "\n",
    "train = input_data[19:325] # april 2020 - feb 2020\n",
    "test = input_data[325:414] # feb 2021, april 2021\n"
   ]
  },
  {
   "cell_type": "markdown",
   "id": "40f206d7",
   "metadata": {},
   "source": [
    "## 1-D sequential CNN forecasting - Vector output model"
   ]
  },
  {
   "cell_type": "markdown",
   "id": "c8f96302",
   "metadata": {},
   "source": [
    "The CNN model that is implemented and makes forecasts on the number of corona virus infections over the time interval 1 february 2021 - 30 april 2021, is a one-dimensional vector output CNN model. This essentially means, that the 1-D input sequence is translated into a forecasted 1-D output vector containing the forecasting values. "
   ]
  },
  {
   "cell_type": "code",
   "execution_count": 52,
   "id": "48e64a54",
   "metadata": {},
   "outputs": [],
   "source": [
    "#The following model below has been modified from source: \n",
    "#https://machinelearningmastery.com/how-to-develop-convolutional-neural-network-models-for-time-series-forecasting/\n",
    "\n",
    "\n",
    "# 1-D CNN VECTOR OUTPUT MODEL\n",
    "\n",
    "# split a univariate sequence into samples\n",
    "def split_sequence(sequence, n_steps_in, n_steps_out):\n",
    "\tX, y = list(), list()\n",
    "\tfor i in range(len(sequence)):\n",
    "\t\t# find the end of this pattern\n",
    "\t\tend_ix = i + n_steps_in\n",
    "\t\tout_end_ix = end_ix + n_steps_out\n",
    "\t\t# check if we are beyond the sequence\n",
    "\t\tif out_end_ix > len(sequence):\n",
    "\t\t\tbreak\n",
    "\t\t# gather input and output parts of the pattern\n",
    "\t\tseq_x, seq_y = sequence[i:end_ix], sequence[end_ix:out_end_ix]\n",
    "\t\tX.append(seq_x)\n",
    "\t\ty.append(seq_y)\n",
    "\treturn array(X), array(y)\n"
   ]
  },
  {
   "cell_type": "markdown",
   "id": "fdfff2d6",
   "metadata": {},
   "source": [
    "Running the following code will make the CNN model make predictions on the number of corona virus infections over the time interval 1 february 2021 - 30 april 2021.\n",
    "This process takes a few seconds, but in many cases no more than 30 seconds. "
   ]
  },
  {
   "cell_type": "code",
   "execution_count": 53,
   "id": "c50cb9f8",
   "metadata": {},
   "outputs": [
    {
     "name": "stdout",
     "output_type": "stream",
     "text": [
      "[[3184.7812 3831.4956 3940.0916 4384.8438 4583.8193 3639.327  3077.1414\n",
      "  2615.5137 2287.339  3412.069  4515.965  4389.611  4081.7268 3272.6487\n",
      "  2775.2454 2365.2136 3423.3276 4519.769  4625.0303 4696.5347 4717.5605\n",
      "  4026.2698 3365.8196 4199.3887 5451.437  5353.0654 5472.017  4739.0186\n",
      "  4123.056  3868.5818 4216.1895 4974.3813 4818.358  5294.8926 4513.1855\n",
      "  3834.892  4172.162  4447.4736 5016.833  6314.245  6129.5703 6023.2944\n",
      "  5485.765  4999.661  5904.918  6695.76   7255.0103 7278.491  6615.7705\n",
      "  5929.715  6015.818  7249.7866 7693.9814 7733.6807 8161.0723 7389.758\n",
      "  6667.8623 6581.198  7445.3506 7586.826  7864.201  7785.1836 6703.1323\n",
      "  5303.776  5258.497  6492.551  7339.591  7831.7886 7903.5054 7708.877\n",
      "  6404.31   6069.9478 6643.9004 8073.3076 9075.249  8155.2646 8224.226\n",
      "  7450.781  7020.329  8097.8423 9518.374  9145.193  8371.415  8066.568\n",
      "  7174.1826 5898.6274 7596.505  7627.765  7690.036 ]]\n"
     ]
    }
   ],
   "source": [
    "# define input sequence\n",
    "data_seq = input_data\n",
    "# choose a number of time steps\n",
    "n_steps_in, n_steps_out = 306, 89\n",
    "# split into samples\n",
    "X, y = split_sequence(data_seq, n_steps_in, n_steps_out)\n",
    "# reshape from [samples, timesteps] into [samples, timesteps, features]\n",
    "n_features = 1\n",
    "X = X.reshape((X.shape[0], X.shape[1], n_features))\n",
    "# define model\n",
    "model = Sequential()\n",
    "model.add(Conv1D(filters=64, kernel_size=2, activation='relu', input_shape=(n_steps_in, n_features)))\n",
    "model.add(MaxPooling1D(pool_size=2))\n",
    "model.add(Flatten())\n",
    "model.add(Dense(50, activation='relu'))\n",
    "model.add(Dense(n_steps_out))\n",
    "model.compile(optimizer='adam', loss='mse')\n",
    "# fit model\n",
    "model.fit(X, y, epochs=2000, verbose=0)\n",
    "# demonstrate prediction\n",
    "x_input = array(train)\n",
    "x_input = x_input.reshape((1, n_steps_in, n_features))\n",
    "yhat = model.predict(x_input, verbose=0)\n",
    "print(yhat)"
   ]
  },
  {
   "cell_type": "markdown",
   "id": "72154e31",
   "metadata": {},
   "source": [
    "The forecasts produced by the CNN model are considered to be approximations according to an optimization procedure, that is averaged over all training epochs. Since each predicted value is an average over all training epochs, the predicted number is a floating point number, which is different from the input, that contains only whole integer numbers. "
   ]
  },
  {
   "cell_type": "code",
   "execution_count": 54,
   "id": "2d1edd0e",
   "metadata": {},
   "outputs": [
    {
     "name": "stdout",
     "output_type": "stream",
     "text": [
      "Model: \"sequential_3\"\n",
      "_________________________________________________________________\n",
      "Layer (type)                 Output Shape              Param #   \n",
      "=================================================================\n",
      "conv1d_3 (Conv1D)            (None, 305, 64)           192       \n",
      "_________________________________________________________________\n",
      "max_pooling1d_3 (MaxPooling1 (None, 152, 64)           0         \n",
      "_________________________________________________________________\n",
      "flatten_3 (Flatten)          (None, 9728)              0         \n",
      "_________________________________________________________________\n",
      "dense_6 (Dense)              (None, 50)                486450    \n",
      "_________________________________________________________________\n",
      "dense_7 (Dense)              (None, 89)                4539      \n",
      "=================================================================\n",
      "Total params: 491,181\n",
      "Trainable params: 491,181\n",
      "Non-trainable params: 0\n",
      "_________________________________________________________________\n"
     ]
    }
   ],
   "source": [
    "model.summary()"
   ]
  },
  {
   "cell_type": "code",
   "execution_count": 55,
   "id": "9fcad6f9",
   "metadata": {},
   "outputs": [],
   "source": [
    "#Convert the resulting array into a 1-column dataframe\n",
    "cnn_dataframe = pd.DataFrame(yhat)\n",
    "cnn_dataframe = cnn_dataframe.transpose()\n"
   ]
  },
  {
   "cell_type": "code",
   "execution_count": 56,
   "id": "ace78dfc",
   "metadata": {},
   "outputs": [],
   "source": [
    "# Add datetime index to dataframe for plotting the data\n",
    "cnn_dataframe['date'] = pd.date_range(start='02/01/2021', periods=len(cnn_dataframe), freq='D') \n",
    "cnn_dataframe = cnn_dataframe.set_index('date')\n"
   ]
  },
  {
   "cell_type": "code",
   "execution_count": 57,
   "id": "619f4eb0",
   "metadata": {},
   "outputs": [
    {
     "data": {
      "image/png": "[encoded data removed]",
      "text/plain": [
       "<Figure size 1080x576 with 1 Axes>"
      ]
     },
     "metadata": {
      "needs_background": "light"
     },
     "output_type": "display_data"
    }
   ],
   "source": [
    "# Forecasting plot\n",
    "# Code of CNN model plot modified from source: \n",
    "# https://www.analyticsvidhya.com/blog/2018/02/time-series-forecasting-methods/?#\n",
    "\n",
    "plt.figure(figsize=(15,8))\n",
    "plt.plot(train['Infections_per_day'], label='Train')\n",
    "plt.plot(test['Infections_per_day'], label='Test')\n",
    "plt.plot(cnn_dataframe, label='CNN_Forecast')\n",
    "plt.legend(loc='best')\n",
    "plt.show()"
   ]
  },
  {
   "cell_type": "markdown",
   "id": "74ba7960",
   "metadata": {},
   "source": [
    "## Performance measures"
   ]
  },
  {
   "cell_type": "markdown",
   "id": "3f04ea14",
   "metadata": {},
   "source": [
    "Similar to all classical machine learning models, that have been implemented earlier. The performance metrics of the CNN 1-D vector model are the root mean-squared error (RMSE) and the mean average error (MAE). Results may vary, but in most runs both metrics show values between 300 and 600, whereas the MAE value is lower than the RMSE value. "
   ]
  },
  {
   "cell_type": "code",
   "execution_count": 58,
   "id": "596571b0",
   "metadata": {},
   "outputs": [],
   "source": [
    "from sklearn.metrics import mean_squared_error \n",
    "from sklearn.metrics import mean_absolute_error\n",
    "from math import sqrt\n"
   ]
  },
  {
   "cell_type": "code",
   "execution_count": 59,
   "id": "c8599c26",
   "metadata": {},
   "outputs": [
    {
     "name": "stdout",
     "output_type": "stream",
     "text": [
      "392.5576015131093\n"
     ]
    }
   ],
   "source": [
    "rmse = sqrt(mean_squared_error(test, cnn_dataframe))\n",
    "print(rmse)"
   ]
  },
  {
   "cell_type": "code",
   "execution_count": 60,
   "id": "4f6362c0",
   "metadata": {},
   "outputs": [
    {
     "name": "stdout",
     "output_type": "stream",
     "text": [
      "290.4668462517556\n"
     ]
    }
   ],
   "source": [
    "mae = mean_absolute_error(test, cnn_dataframe)\n",
    "print(mae)"
   ]
  },
  {
   "cell_type": "markdown",
   "id": "3b1715f6",
   "metadata": {},
   "source": [
    "END OF NOTEBOOK, VERSION: 25TH of JUNE, 2021. TIME SERIES MODELLING 3 \n"
   ]
  },
  {
   "cell_type": "code",
   "execution_count": null,
   "id": "1fc06646",
   "metadata": {},
   "outputs": [],
   "source": []
  }
 ],
 "metadata": {
  "kernelspec": {
   "display_name": "Python 3",
   "language": "python",
   "name": "python3"
  },
  "language_info": {
   "codemirror_mode": {
    "name": "ipython",
    "version": 3
   },
   "file_extension": ".py",
   "mimetype": "text/x-python",
   "name": "python",
   "nbconvert_exporter": "python",
   "pygments_lexer": "ipython3",
   "version": "3.7.4"
  }
 },
 "nbformat": 4,
 "nbformat_minor": 5
}
